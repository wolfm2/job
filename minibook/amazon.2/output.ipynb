{
 "cells": [
  {
   "cell_type": "code",
   "execution_count": 1,
   "metadata": {
    "collapsed": true,
    "papermill": {
     "duration": 0.157102,
     "end_time": "2018-04-01T14:41:12.568181",
     "exception": false,
     "start_time": "2018-04-01T14:41:12.411079",
     "status": "completed"
    },
    "tags": []
   },
   "outputs": [],
   "source": [
    "import numpy as np \n",
    "import pandas as pd "
   ]
  },
  {
   "cell_type": "markdown",
   "metadata": {
    "papermill": {
     "duration": 7e-06,
     "end_time": "2018-04-01T14:41:12.568562",
     "exception": false,
     "start_time": "2018-04-01T14:41:12.568555",
     "status": "completed"
    },
    "tags": []
   },
   "source": [
    "### read in the full Amazon file (455,000 rows)"
   ]
  },
  {
   "cell_type": "code",
   "execution_count": 2,
   "metadata": {
    "papermill": {
     "duration": 1.985637,
     "end_time": "2018-04-01T14:41:14.557015",
     "exception": false,
     "start_time": "2018-04-01T14:41:12.571378",
     "status": "completed"
    },
    "tags": []
   },
   "outputs": [
    {
     "name": "stdout",
     "output_type": "stream",
     "text": [
      "(455000, 13)\n"
     ]
    }
   ],
   "source": [
    "amazon = pd.read_csv('Amazon.csv')\n",
    "print(amazon.shape)"
   ]
  },
  {
   "cell_type": "markdown",
   "metadata": {
    "papermill": {
     "duration": 7e-06,
     "end_time": "2018-04-01T14:41:14.557110",
     "exception": false,
     "start_time": "2018-04-01T14:41:14.557103",
     "status": "completed"
    },
    "tags": []
   },
   "source": [
    "### randomly split the dataset into training and test sets"
   ]
  },
  {
   "cell_type": "code",
   "execution_count": 3,
   "metadata": {
    "collapsed": true,
    "papermill": {
     "duration": 0.320081,
     "end_time": "2018-04-01T14:41:14.880093",
     "exception": false,
     "start_time": "2018-04-01T14:41:14.560012",
     "status": "completed"
    },
    "tags": []
   },
   "outputs": [],
   "source": [
    "# create training and test sets\n",
    "from sklearn.model_selection import train_test_split\n",
    "\n",
    "raw_data_train, raw_data_test, y_train, y_test = train_test_split(amazon, amazon['helpful'], test_size= 0.3, random_state=7)"
   ]
  },
  {
   "cell_type": "markdown",
   "metadata": {
    "papermill": {
     "duration": 7e-06,
     "end_time": "2018-04-01T14:41:14.880198",
     "exception": false,
     "start_time": "2018-04-01T14:41:14.880191",
     "status": "completed"
    },
    "tags": []
   },
   "source": [
    "### check that the file sizes are what you expected"
   ]
  },
  {
   "cell_type": "code",
   "execution_count": 4,
   "metadata": {
    "papermill": {
     "duration": 0.005688,
     "end_time": "2018-04-01T14:41:14.888930",
     "exception": false,
     "start_time": "2018-04-01T14:41:14.883242",
     "status": "completed"
    },
    "tags": []
   },
   "outputs": [
    {
     "name": "stdout",
     "output_type": "stream",
     "text": [
      "(318500, 13)\n",
      "(136500, 13)\n",
      "(318500,)\n",
      "(136500,)\n"
     ]
    }
   ],
   "source": [
    "print(raw_data_train.shape) \n",
    "print(raw_data_test.shape)\n",
    "print(y_train.shape)\n",
    "print(y_test.shape)"
   ]
  },
  {
   "cell_type": "markdown",
   "metadata": {
    "papermill": {
     "duration": 5e-06,
     "end_time": "2018-04-01T14:41:14.888967",
     "exception": false,
     "start_time": "2018-04-01T14:41:14.888962",
     "status": "completed"
    },
    "tags": []
   },
   "source": [
    "### export as CSV files so you have readily accessible files to read for training and testing"
   ]
  },
  {
   "cell_type": "code",
   "execution_count": 5,
   "metadata": {
    "collapsed": true,
    "papermill": {
     "duration": 4.203121,
     "end_time": "2018-04-01T14:41:19.095235",
     "exception": false,
     "start_time": "2018-04-01T14:41:14.892114",
     "status": "completed"
    },
    "tags": []
   },
   "outputs": [],
   "source": [
    "import os\n",
    "os.system(\"mkdir -p /home/wolfm2/amazon_data.0/ \") # mw\n",
    "\n",
    "raw_data_train.to_csv('/home/wolfm2/amazon_data.0/raw_data_train.csv')\n",
    "raw_data_test.to_csv('/home/wolfm2/amazon_data.0/raw_data_test.csv')\n",
    "y_train.to_csv('/home/wolfm2/amazon_data.0/y_train.csv')\n",
    "y_test.to_csv('/home/wolfm2/amazon_data.0/y_test.csv')"
   ]
  },
  {
   "cell_type": "code",
   "execution_count": null,
   "metadata": {
    "collapsed": true,
    "papermill": {
     "duration": 1e-06,
     "end_time": "2018-04-01T14:41:19.095328",
     "exception": null,
     "start_time": "2018-04-01T14:41:19.095327",
     "status": "completed"
    },
    "tags": []
   },
   "outputs": [],
   "source": []
  }
 ],
 "metadata": {
  "kernelspec": {
   "display_name": "Python 3",
   "language": "python",
   "name": "python3"
  },
  "language_info": {
   "codemirror_mode": {
    "name": "ipython",
    "version": 3
   },
   "file_extension": ".py",
   "mimetype": "text/x-python",
   "name": "python",
   "nbconvert_exporter": "python",
   "pygments_lexer": "ipython3",
   "version": "3.6.3"
  },
  "papermill": {
   "duration": 8.323249,
   "end_time": "2018-04-01T14:41:19.995136",
   "environment_variables": {},
   "exception": false,
   "output_path": "output.ipynb",
   "parameters": null,
   "start_time": "2018-04-01T14:41:11.671887",
   "version": "0.12.4"
  }
 },
 "nbformat": 4,
 "nbformat_minor": 1
}
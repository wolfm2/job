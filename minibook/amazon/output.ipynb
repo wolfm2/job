{
 "cells": [
  {
   "cell_type": "code",
   "execution_count": 1,
   "metadata": {
    "collapsed": true,
    "papermill": {
     "duration": 0.159362,
     "end_time": "2018-03-07T21:25:51.320073",
     "exception": false,
     "start_time": "2018-03-07T21:25:51.160711",
     "status": "completed"
    },
    "tags": []
   },
   "outputs": [],
   "source": [
    "import numpy as np\n",
    "import pandas as pd"
   ]
  },
  {
   "cell_type": "markdown",
   "metadata": {
    "papermill": {
     "duration": 2.2e-05,
     "end_time": "2018-03-07T21:25:51.320539",
     "exception": false,
     "start_time": "2018-03-07T21:25:51.320517",
     "status": "completed"
    },
    "tags": []
   },
   "source": [
    "### read in the full Amazon file (455,000 rows)"
   ]
  },
  {
   "cell_type": "code",
   "execution_count": 2,
   "metadata": {
    "papermill": {
     "duration": 1.898836,
     "end_time": "2018-03-07T21:25:53.222183",
     "exception": false,
     "start_time": "2018-03-07T21:25:51.323347",
     "status": "completed"
    },
    "tags": []
   },
   "outputs": [
    {
     "name": "stdout",
     "output_type": "stream",
     "text": [
      "(455000, 13)\n"
     ]
    }
   ],
   "source": [
    "amazon = pd.read_csv('Amazon.csv')\n",
    "print(amazon.shape)"
   ]
  },
  {
   "cell_type": "markdown",
   "metadata": {
    "papermill": {
     "duration": 7e-06,
     "end_time": "2018-03-07T21:25:53.222295",
     "exception": false,
     "start_time": "2018-03-07T21:25:53.222288",
     "status": "completed"
    },
    "tags": []
   },
   "source": [
    "### randomly split the dataset into training and test sets"
   ]
  },
  {
   "cell_type": "code",
   "execution_count": 3,
   "metadata": {
    "collapsed": true,
    "papermill": {
     "duration": 0.316105,
     "end_time": "2018-03-07T21:25:53.541515",
     "exception": false,
     "start_time": "2018-03-07T21:25:53.225410",
     "status": "completed"
    },
    "tags": []
   },
   "outputs": [],
   "source": [
    "# create training and test sets\n",
    "from sklearn.model_selection import train_test_split\n",
    "\n",
    "raw_data_train, raw_data_test, y_train, y_test = train_test_split(amazon, amazon['helpful'], test_size= 0.2, random_state=7)"
   ]
  },
  {
   "cell_type": "markdown",
   "metadata": {
    "papermill": {
     "duration": 7e-06,
     "end_time": "2018-03-07T21:25:53.541629",
     "exception": false,
     "start_time": "2018-03-07T21:25:53.541622",
     "status": "completed"
    },
    "tags": []
   },
   "source": [
    "### check that the file sizes are what you expected"
   ]
  },
  {
   "cell_type": "code",
   "execution_count": 4,
   "metadata": {
    "papermill": {
     "duration": 0.008148,
     "end_time": "2018-03-07T21:25:53.552910",
     "exception": false,
     "start_time": "2018-03-07T21:25:53.544762",
     "status": "completed"
    },
    "tags": []
   },
   "outputs": [
    {
     "name": "stdout",
     "output_type": "stream",
     "text": [
      "(364000, 13)\n",
      "(91000, 13)\n",
      "(364000,)\n",
      "(91000,)\n"
     ]
    }
   ],
   "source": [
    "print(raw_data_train.shape) \n",
    "print(raw_data_test.shape)\n",
    "print(y_train.shape)\n",
    "print(y_test.shape)"
   ]
  },
  {
   "cell_type": "markdown",
   "metadata": {
    "papermill": {
     "duration": 6e-06,
     "end_time": "2018-03-07T21:25:53.552951",
     "exception": false,
     "start_time": "2018-03-07T21:25:53.552945",
     "status": "completed"
    },
    "tags": []
   },
   "source": [
    "### export as CSV files so you have readily accessible files to read for training and testing"
   ]
  },
  {
   "cell_type": "code",
   "execution_count": 5,
   "metadata": {
    "collapsed": true,
    "papermill": {
     "duration": 4.477308,
     "end_time": "2018-03-07T21:25:58.033460",
     "exception": false,
     "start_time": "2018-03-07T21:25:53.556152",
     "status": "completed"
    },
    "tags": []
   },
   "outputs": [],
   "source": [
    "import os\n",
    "os.system(\"mkdir -p /home/wolfm2/amazon_data/ \") # mw\n",
    "\n",
    "raw_data_train.to_csv('/home/wolfm2/amazon_data/raw_data_train.csv')\n",
    "raw_data_test.to_csv('/home/wolfm2/amazon_data/raw_data_test.csv')\n",
    "y_train.to_csv('/home/wolfm2/amazon_data/y_train.csv')\n",
    "y_test.to_csv('/home/wolfm2/amazon_data/y_test.csv')"
   ]
  },
  {
   "cell_type": "code",
   "execution_count": null,
   "metadata": {
    "collapsed": true,
    "papermill": {
     "duration": 1e-06,
     "end_time": "2018-03-07T21:25:58.033569",
     "exception": null,
     "start_time": "2018-03-07T21:25:58.033568",
     "status": "completed"
    },
    "tags": []
   },
   "outputs": [],
   "source": []
  }
 ],
 "metadata": {
  "kernelspec": {
   "display_name": "Python 3",
   "language": "python",
   "name": "python3"
  },
  "language_info": {
   "codemirror_mode": {
    "name": "ipython",
    "version": 3
   },
   "file_extension": ".py",
   "mimetype": "text/x-python",
   "name": "python",
   "nbconvert_exporter": "python",
   "pygments_lexer": "ipython3",
   "version": "3.6.3"
  },
  "papermill": {
   "duration": 8.323177,
   "end_time": "2018-03-07T21:25:58.744742",
   "environment_variables": {},
   "exception": false,
   "output_path": "output.ipynb",
   "parameters": null,
   "start_time": "2018-03-07T21:25:50.421565",
   "version": "0.12.4"
  }
 },
 "nbformat": 4,
 "nbformat_minor": 1
}
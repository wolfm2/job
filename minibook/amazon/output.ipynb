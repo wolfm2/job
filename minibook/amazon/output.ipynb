{
 "cells": [
  {
   "cell_type": "code",
   "execution_count": 1,
   "metadata": {
    "collapsed": true,
    "papermill": {
     "duration": 0.16286,
     "end_time": "2018-03-07T21:40:15.014298",
     "exception": false,
     "start_time": "2018-03-07T21:40:14.851438",
     "status": "completed"
    },
    "tags": []
   },
   "outputs": [],
   "source": [
    "import numpy as np\n",
    "import pandas as pd"
   ]
  },
  {
   "cell_type": "markdown",
   "metadata": {
    "papermill": {
     "duration": 2.2e-05,
     "end_time": "2018-03-07T21:40:15.014684",
     "exception": false,
     "start_time": "2018-03-07T21:40:15.014662",
     "status": "completed"
    },
    "tags": []
   },
   "source": [
    "### read in the full Amazon file (455,000 rows)"
   ]
  },
  {
   "cell_type": "code",
   "execution_count": 2,
   "metadata": {
    "papermill": {
     "duration": 1.938391,
     "end_time": "2018-03-07T21:40:16.955918",
     "exception": false,
     "start_time": "2018-03-07T21:40:15.017527",
     "status": "completed"
    },
    "tags": []
   },
   "outputs": [
    {
     "name": "stdout",
     "output_type": "stream",
     "text": [
      "(455000, 13)\n"
     ]
    }
   ],
   "source": [
    "amazon = pd.read_csv('Amazon.csv') \n",
    "print(amazon.shape)"
   ]
  },
  {
   "cell_type": "markdown",
   "metadata": {
    "papermill": {
     "duration": 6e-06,
     "end_time": "2018-03-07T21:40:16.956010",
     "exception": false,
     "start_time": "2018-03-07T21:40:16.956004",
     "status": "completed"
    },
    "tags": []
   },
   "source": [
    "### randomly split the dataset into training and test sets"
   ]
  },
  {
   "cell_type": "code",
   "execution_count": 3,
   "metadata": {
    "collapsed": true,
    "papermill": {
     "duration": 0.316061,
     "end_time": "2018-03-07T21:40:17.274986",
     "exception": false,
     "start_time": "2018-03-07T21:40:16.958925",
     "status": "completed"
    },
    "tags": []
   },
   "outputs": [],
   "source": [
    "# create training and test sets\n",
    "from sklearn.model_selection import train_test_split\n",
    "\n",
    "raw_data_train, raw_data_test, y_train, y_test = train_test_split(amazon, amazon['helpful'], test_size= 0.2, random_state=7)"
   ]
  },
  {
   "cell_type": "markdown",
   "metadata": {
    "papermill": {
     "duration": 7e-06,
     "end_time": "2018-03-07T21:40:17.275082",
     "exception": false,
     "start_time": "2018-03-07T21:40:17.275075",
     "status": "completed"
    },
    "tags": []
   },
   "source": [
    "### check that the file sizes are what you expected"
   ]
  },
  {
   "cell_type": "code",
   "execution_count": 4,
   "metadata": {
    "papermill": {
     "duration": 0.005169,
     "end_time": "2018-03-07T21:40:17.283245",
     "exception": false,
     "start_time": "2018-03-07T21:40:17.278076",
     "status": "completed"
    },
    "tags": []
   },
   "outputs": [
    {
     "name": "stdout",
     "output_type": "stream",
     "text": [
      "(364000, 13)\n",
      "(91000, 13)\n",
      "(364000,)\n",
      "(91000,)\n"
     ]
    }
   ],
   "source": [
    "print(raw_data_train.shape) \n",
    "print(raw_data_test.shape)\n",
    "print(y_train.shape)\n",
    "print(y_test.shape)"
   ]
  },
  {
   "cell_type": "markdown",
   "metadata": {
    "papermill": {
     "duration": 5e-06,
     "end_time": "2018-03-07T21:40:17.283282",
     "exception": false,
     "start_time": "2018-03-07T21:40:17.283277",
     "status": "completed"
    },
    "tags": []
   },
   "source": [
    "### export as CSV files so you have readily accessible files to read for training and testing"
   ]
  },
  {
   "cell_type": "code",
   "execution_count": 5,
   "metadata": {
    "collapsed": true,
    "papermill": {
     "duration": 4.22195,
     "end_time": "2018-03-07T21:40:21.508354",
     "exception": false,
     "start_time": "2018-03-07T21:40:17.286404",
     "status": "completed"
    },
    "tags": []
   },
   "outputs": [],
   "source": [
    "import os\n",
    "os.system(\"mkdir -p /home/wolfm2/amazon_data/ \") # mw\n",
    "\n",
    "raw_data_train.to_csv('/home/wolfm2/amazon_data/raw_data_train.csv')\n",
    "raw_data_test.to_csv('/home/wolfm2/amazon_data/raw_data_test.csv')\n",
    "y_train.to_csv('/home/wolfm2/amazon_data/y_train.csv')\n",
    "y_test.to_csv('/home/wolfm2/amazon_data/y_test.csv')"
   ]
  },
  {
   "cell_type": "code",
   "execution_count": null,
   "metadata": {
    "collapsed": true,
    "papermill": {
     "duration": 2e-06,
     "end_time": "2018-03-07T21:40:21.508440",
     "exception": null,
     "start_time": "2018-03-07T21:40:21.508438",
     "status": "completed"
    },
    "tags": []
   },
   "outputs": [],
   "source": []
  }
 ],
 "metadata": {
  "kernelspec": {
   "display_name": "Python 3",
   "language": "python",
   "name": "python3"
  },
  "language_info": {
   "codemirror_mode": {
    "name": "ipython",
    "version": 3
   },
   "file_extension": ".py",
   "mimetype": "text/x-python",
   "name": "python",
   "nbconvert_exporter": "python",
   "pygments_lexer": "ipython3",
   "version": "3.6.3"
  },
  "papermill": {
   "duration": 8.322962,
   "end_time": "2018-03-07T21:40:22.435333",
   "environment_variables": {},
   "exception": false,
   "output_path": "output.ipynb",
   "parameters": null,
   "start_time": "2018-03-07T21:40:14.112371",
   "version": "0.12.4"
  }
 },
 "nbformat": 4,
 "nbformat_minor": 1
}
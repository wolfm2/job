{
 "cells": [
  {
   "cell_type": "code",
   "execution_count": 1,
   "metadata": {
    "collapsed": true,
    "papermill": {
     "duration": 1.164517,
     "end_time": "2018-03-07T14:33:21.752712",
     "exception": false,
     "start_time": "2018-03-07T14:33:20.588195",
     "status": "completed"
    },
    "tags": []
   },
   "outputs": [],
   "source": [
    "import numpy as np\n",
    "import pandas as pd"
   ]
  },
  {
   "cell_type": "markdown",
   "metadata": {
    "papermill": {
     "duration": 5.9e-05,
     "end_time": "2018-03-07T14:33:21.755662",
     "exception": false,
     "start_time": "2018-03-07T14:33:21.755603",
     "status": "completed"
    },
    "tags": []
   },
   "source": [
    "### read in the full Amazon file (455,000 rows)"
   ]
  },
  {
   "cell_type": "code",
   "execution_count": 2,
   "metadata": {
    "papermill": {
     "duration": 14.02143,
     "end_time": "2018-03-07T14:33:35.809982",
     "exception": false,
     "start_time": "2018-03-07T14:33:21.788552",
     "status": "completed"
    },
    "tags": []
   },
   "outputs": [
    {
     "name": "stdout",
     "output_type": "stream",
     "text": [
      "(455000, 13)\n"
     ]
    }
   ],
   "source": [
    "amazon = pd.read_csv('Amazon.csv')\n",
    "print(amazon.shape)"
   ]
  },
  {
   "cell_type": "markdown",
   "metadata": {
    "papermill": {
     "duration": 6.5e-05,
     "end_time": "2018-03-07T14:33:35.810672",
     "exception": false,
     "start_time": "2018-03-07T14:33:35.810607",
     "status": "completed"
    },
    "tags": []
   },
   "source": [
    "### randomly split the dataset into training and test sets"
   ]
  },
  {
   "cell_type": "code",
   "execution_count": 3,
   "metadata": {
    "collapsed": true,
    "papermill": {
     "duration": 5.03718,
     "end_time": "2018-03-07T14:33:40.881494",
     "exception": false,
     "start_time": "2018-03-07T14:33:35.844314",
     "status": "completed"
    },
    "tags": []
   },
   "outputs": [],
   "source": [
    "# create training and test sets\n",
    "from sklearn.model_selection import train_test_split\n",
    "\n",
    "raw_data_train, raw_data_test, y_train, y_test = train_test_split(amazon, amazon['helpful'], test_size= 0.2, random_state=7)"
   ]
  },
  {
   "cell_type": "markdown",
   "metadata": {
    "papermill": {
     "duration": 6.1e-05,
     "end_time": "2018-03-07T14:33:40.882156",
     "exception": false,
     "start_time": "2018-03-07T14:33:40.882095",
     "status": "completed"
    },
    "tags": []
   },
   "source": [
    "### check that the file sizes are what you expected"
   ]
  },
  {
   "cell_type": "code",
   "execution_count": 4,
   "metadata": {
    "papermill": {
     "duration": 0.051264,
     "end_time": "2018-03-07T14:33:40.966000",
     "exception": false,
     "start_time": "2018-03-07T14:33:40.914736",
     "status": "completed"
    },
    "tags": []
   },
   "outputs": [
    {
     "name": "stdout",
     "output_type": "stream",
     "text": [
      "(364000, 13)\n",
      "(91000, 13)\n",
      "(364000,)\n",
      "(91000,)\n"
     ]
    }
   ],
   "source": [
    "print(raw_data_train.shape) \n",
    "print(raw_data_test.shape)\n",
    "print(y_train.shape)\n",
    "print(y_test.shape)"
   ]
  },
  {
   "cell_type": "markdown",
   "metadata": {
    "papermill": {
     "duration": 5.1e-05,
     "end_time": "2018-03-07T14:33:40.966537",
     "exception": false,
     "start_time": "2018-03-07T14:33:40.966486",
     "status": "completed"
    },
    "tags": []
   },
   "source": [
    "### export as CSV files so you have readily accessible files to read for training and testing"
   ]
  },
  {
   "cell_type": "code",
   "execution_count": 5,
   "metadata": {
    "collapsed": true,
    "papermill": {
     "duration": 39.849554,
     "end_time": "2018-03-07T14:34:20.851408",
     "exception": false,
     "start_time": "2018-03-07T14:33:41.001854",
     "status": "completed"
    },
    "tags": []
   },
   "outputs": [],
   "source": [
    "import os\n",
    "os.system(\"mkdir -p /home/eydu/amazon_data/ \") # mw\n",
    "\n",
    "raw_data_train.to_csv('/home/eydu/amazon_data/raw_data_train.csv')\n",
    "raw_data_test.to_csv('/home/eydu/amazon_data/raw_data_test.csv')\n",
    "y_train.to_csv('/home/eydu/amazon_data/y_train.csv')\n",
    "y_test.to_csv('/home/eydu/amazon_data/y_test.csv')"
   ]
  },
  {
   "cell_type": "code",
   "execution_count": null,
   "metadata": {
    "collapsed": true,
    "papermill": {
     "duration": 3.1e-05,
     "end_time": "2018-03-07T14:34:20.861942",
     "exception": null,
     "start_time": "2018-03-07T14:34:20.861911",
     "status": "completed"
    },
    "tags": []
   },
   "outputs": [],
   "source": []
  }
 ],
 "metadata": {
  "kernelspec": {
   "display_name": "Python 3",
   "language": "python",
   "name": "python3"
  },
  "language_info": {
   "codemirror_mode": {
    "name": "ipython",
    "version": 3
   },
   "file_extension": ".py",
   "mimetype": "text/x-python",
   "name": "python",
   "nbconvert_exporter": "python",
   "pygments_lexer": "ipython3",
   "version": "3.6.3"
  },
  "papermill": {
   "duration": 67.000527,
   "end_time": "2018-03-07T14:34:23.296554",
   "environment_variables": {},
   "exception": false,
   "output_path": "output.ipynb",
   "parameters": null,
   "start_time": "2018-03-07T14:33:16.296027",
   "version": "0.12.3"
  }
 },
 "nbformat": 4,
 "nbformat_minor": 1
}
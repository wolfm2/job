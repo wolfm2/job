{
 "cells": [
  {
   "cell_type": "code",
   "execution_count": 1,
   "metadata": {
    "collapsed": true,
    "papermill": {
     "duration": 0.162096,
     "end_time": "2018-03-07T21:25:12.378682",
     "exception": false,
     "start_time": "2018-03-07T21:25:12.216586",
     "status": "completed"
    },
    "tags": []
   },
   "outputs": [],
   "source": [
    "import numpy as np\n",
    "import pandas as pd"
   ]
  },
  {
   "cell_type": "markdown",
   "metadata": {
    "papermill": {
     "duration": 2.2e-05,
     "end_time": "2018-03-07T21:25:12.379078",
     "exception": false,
     "start_time": "2018-03-07T21:25:12.379056",
     "status": "completed"
    },
    "tags": []
   },
   "source": [
    "### read in the full Amazon file (455,000 rows)"
   ]
  },
  {
   "cell_type": "code",
   "execution_count": 2,
   "metadata": {
    "papermill": {
     "duration": 1.933701,
     "end_time": "2018-03-07T21:25:14.315628",
     "exception": false,
     "start_time": "2018-03-07T21:25:12.381927",
     "status": "completed"
    },
    "tags": []
   },
   "outputs": [
    {
     "name": "stdout",
     "output_type": "stream",
     "text": [
      "(455000, 13)\n"
     ]
    }
   ],
   "source": [
    "amazon = pd.read_csv('Amazon.csv')\n",
    "print(amazon.shape)"
   ]
  },
  {
   "cell_type": "markdown",
   "metadata": {
    "papermill": {
     "duration": 6e-06,
     "end_time": "2018-03-07T21:25:14.315726",
     "exception": false,
     "start_time": "2018-03-07T21:25:14.315720",
     "status": "completed"
    },
    "tags": []
   },
   "source": [
    "### randomly split the dataset into training and test sets"
   ]
  },
  {
   "cell_type": "code",
   "execution_count": 3,
   "metadata": {
    "collapsed": true,
    "papermill": {
     "duration": 0.320086,
     "end_time": "2018-03-07T21:25:14.638873",
     "exception": false,
     "start_time": "2018-03-07T21:25:14.318787",
     "status": "completed"
    },
    "tags": []
   },
   "outputs": [],
   "source": [
    "# create training and test sets\n",
    "from sklearn.model_selection import train_test_split\n",
    "\n",
    "raw_data_train, raw_data_test, y_train, y_test = train_test_split(amazon, amazon['helpful'], test_size= 0.2, random_state=7)"
   ]
  },
  {
   "cell_type": "markdown",
   "metadata": {
    "papermill": {
     "duration": 6e-06,
     "end_time": "2018-03-07T21:25:14.638975",
     "exception": false,
     "start_time": "2018-03-07T21:25:14.638969",
     "status": "completed"
    },
    "tags": []
   },
   "source": [
    "### check that the file sizes are what you expected"
   ]
  },
  {
   "cell_type": "code",
   "execution_count": 4,
   "metadata": {
    "papermill": {
     "duration": 0.005426,
     "end_time": "2018-03-07T21:25:14.647418",
     "exception": false,
     "start_time": "2018-03-07T21:25:14.641992",
     "status": "completed"
    },
    "tags": []
   },
   "outputs": [
    {
     "name": "stdout",
     "output_type": "stream",
     "text": [
      "(364000, 13)\n",
      "(91000, 13)\n",
      "(364000,)\n",
      "(91000,)\n"
     ]
    }
   ],
   "source": [
    "print(raw_data_train.shape) \n",
    "print(raw_data_test.shape)\n",
    "print(y_train.shape)\n",
    "print(y_test.shape)"
   ]
  },
  {
   "cell_type": "markdown",
   "metadata": {
    "papermill": {
     "duration": 6e-06,
     "end_time": "2018-03-07T21:25:14.647457",
     "exception": false,
     "start_time": "2018-03-07T21:25:14.647451",
     "status": "completed"
    },
    "tags": []
   },
   "source": [
    "### export as CSV files so you have readily accessible files to read for training and testing"
   ]
  },
  {
   "cell_type": "code",
   "execution_count": 5,
   "metadata": {
    "collapsed": true,
    "papermill": {
     "duration": 4.234385,
     "end_time": "2018-03-07T21:25:18.884967",
     "exception": false,
     "start_time": "2018-03-07T21:25:14.650582",
     "status": "completed"
    },
    "tags": []
   },
   "outputs": [],
   "source": [
    "import os\n",
    "os.system(\"mkdir -p /home/wolfm2/amazon_data/ \") # mw\n",
    "\n",
    "raw_data_train.to_csv('/home/wolfm2/amazon_data/raw_data_train.csv')\n",
    "raw_data_test.to_csv('/home/wolfm2/amazon_data/raw_data_test.csv')\n",
    "y_train.to_csv('/home/wolfm2/amazon_data/y_train.csv')\n",
    "y_test.to_csv('/home/wolfm2/amazon_data/y_test.csv')"
   ]
  },
  {
   "cell_type": "code",
   "execution_count": null,
   "metadata": {
    "collapsed": true,
    "papermill": {
     "duration": 2e-06,
     "end_time": "2018-03-07T21:25:18.885062",
     "exception": null,
     "start_time": "2018-03-07T21:25:18.885060",
     "status": "completed"
    },
    "tags": []
   },
   "outputs": [],
   "source": []
  }
 ],
 "metadata": {
  "kernelspec": {
   "display_name": "Python 3",
   "language": "python",
   "name": "python3"
  },
  "language_info": {
   "codemirror_mode": {
    "name": "ipython",
    "version": 3
   },
   "file_extension": ".py",
   "mimetype": "text/x-python",
   "name": "python",
   "nbconvert_exporter": "python",
   "pygments_lexer": "ipython3",
   "version": "3.6.3"
  },
  "papermill": {
   "duration": 8.32309,
   "end_time": "2018-03-07T21:25:19.801138",
   "environment_variables": {},
   "exception": false,
   "output_path": "output.ipynb",
   "parameters": null,
   "start_time": "2018-03-07T21:25:11.478048",
   "version": "0.12.4"
  }
 },
 "nbformat": 4,
 "nbformat_minor": 1
}
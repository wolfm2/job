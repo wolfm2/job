{
 "cells": [
  {
   "cell_type": "code",
   "execution_count": 1,
   "metadata": {
    "collapsed": true,
    "papermill": {
     "duration": 1.178311,
     "end_time": "2018-03-07T14:53:33.737612",
     "exception": false,
     "start_time": "2018-03-07T14:53:32.559301",
     "status": "completed"
    },
    "tags": []
   },
   "outputs": [],
   "source": [
    "import numpy as np\n",
    "import pandas as pd"
   ]
  },
  {
   "cell_type": "markdown",
   "metadata": {
    "papermill": {
     "duration": 6e-05,
     "end_time": "2018-03-07T14:53:33.741927",
     "exception": false,
     "start_time": "2018-03-07T14:53:33.741867",
     "status": "completed"
    },
    "tags": []
   },
   "source": [
    "### read in the full Amazon file (455,000 rows)"
   ]
  },
  {
   "cell_type": "code",
   "execution_count": 2,
   "metadata": {
    "papermill": {
     "duration": 14.270074,
     "end_time": "2018-03-07T14:53:48.043701",
     "exception": false,
     "start_time": "2018-03-07T14:53:33.773627",
     "status": "completed"
    },
    "tags": []
   },
   "outputs": [
    {
     "name": "stdout",
     "output_type": "stream",
     "text": [
      "(455000, 13)\n"
     ]
    }
   ],
   "source": [
    "amazon = pd.read_csv('Amazon.csv')\n",
    "print(amazon.shape)"
   ]
  },
  {
   "cell_type": "markdown",
   "metadata": {
    "papermill": {
     "duration": 5.7e-05,
     "end_time": "2018-03-07T14:53:48.044311",
     "exception": false,
     "start_time": "2018-03-07T14:53:48.044254",
     "status": "completed"
    },
    "tags": []
   },
   "source": [
    "### randomly split the dataset into training and test sets"
   ]
  },
  {
   "cell_type": "code",
   "execution_count": 3,
   "metadata": {
    "collapsed": true,
    "papermill": {
     "duration": 2.476668,
     "end_time": "2018-03-07T14:53:50.553312",
     "exception": false,
     "start_time": "2018-03-07T14:53:48.076644",
     "status": "completed"
    },
    "tags": []
   },
   "outputs": [],
   "source": [
    "# create training and test sets\n",
    "from sklearn.model_selection import train_test_split\n",
    "\n",
    "raw_data_train, raw_data_test, y_train, y_test = train_test_split(amazon, amazon['helpful'], test_size= 0.2, random_state=7)"
   ]
  },
  {
   "cell_type": "markdown",
   "metadata": {
    "papermill": {
     "duration": 6.6e-05,
     "end_time": "2018-03-07T14:53:50.554004",
     "exception": false,
     "start_time": "2018-03-07T14:53:50.553938",
     "status": "completed"
    },
    "tags": []
   },
   "source": [
    "### check that the file sizes are what you expected"
   ]
  },
  {
   "cell_type": "code",
   "execution_count": 4,
   "metadata": {
    "papermill": {
     "duration": 0.04674,
     "end_time": "2018-03-07T14:53:50.634028",
     "exception": false,
     "start_time": "2018-03-07T14:53:50.587288",
     "status": "completed"
    },
    "tags": []
   },
   "outputs": [
    {
     "name": "stdout",
     "output_type": "stream",
     "text": [
      "(364000, 13)\n",
      "(91000, 13)\n",
      "(364000,)\n",
      "(91000,)\n"
     ]
    }
   ],
   "source": [
    "print(raw_data_train.shape) \n",
    "print(raw_data_test.shape)\n",
    "print(y_train.shape)\n",
    "print(y_test.shape)"
   ]
  },
  {
   "cell_type": "markdown",
   "metadata": {
    "papermill": {
     "duration": 5.7e-05,
     "end_time": "2018-03-07T14:53:50.634393",
     "exception": false,
     "start_time": "2018-03-07T14:53:50.634336",
     "status": "completed"
    },
    "tags": []
   },
   "source": [
    "### export as CSV files so you have readily accessible files to read for training and testing"
   ]
  },
  {
   "cell_type": "code",
   "execution_count": 5,
   "metadata": {
    "collapsed": true,
    "papermill": {
     "duration": 37.239794,
     "end_time": "2018-03-07T14:54:27.907359",
     "exception": false,
     "start_time": "2018-03-07T14:53:50.667565",
     "status": "completed"
    },
    "tags": []
   },
   "outputs": [],
   "source": [
    "import os\n",
    "os.system(\"mkdir -p /home/eydu/amazon_data/ \") # mw\n",
    "\n",
    "raw_data_train.to_csv('/home/eydu/amazon_data/raw_data_train.csv')\n",
    "raw_data_test.to_csv('/home/eydu/amazon_data/raw_data_test.csv')\n",
    "y_train.to_csv('/home/eydu/amazon_data/y_train.csv')\n",
    "y_test.to_csv('/home/eydu/amazon_data/y_test.csv')"
   ]
  },
  {
   "cell_type": "code",
   "execution_count": null,
   "metadata": {
    "collapsed": true,
    "papermill": {
     "duration": 1.4e-05,
     "end_time": "2018-03-07T14:54:27.907996",
     "exception": null,
     "start_time": "2018-03-07T14:54:27.907982",
     "status": "completed"
    },
    "tags": []
   },
   "outputs": [],
   "source": []
  }
 ],
 "metadata": {
  "kernelspec": {
   "display_name": "Python 3",
   "language": "python",
   "name": "python3"
  },
  "language_info": {
   "codemirror_mode": {
    "name": "ipython",
    "version": 3
   },
   "file_extension": ".py",
   "mimetype": "text/x-python",
   "name": "python",
   "nbconvert_exporter": "python",
   "pygments_lexer": "ipython3",
   "version": "3.6.3"
  },
  "papermill": {
   "duration": 61.893874,
   "end_time": "2018-03-07T14:54:30.158289",
   "environment_variables": {},
   "exception": false,
   "output_path": "output.ipynb",
   "parameters": null,
   "start_time": "2018-03-07T14:53:28.264415",
   "version": "0.12.3"
  }
 },
 "nbformat": 4,
 "nbformat_minor": 1
}
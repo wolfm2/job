{
 "cells": [
  {
   "cell_type": "markdown",
   "metadata": {},
   "source": [
    "<span style=\"color:red; font-family:Helvetica Neue, Helvetica, Arial, sans-serif; font-size:2em;\">An Exception was encountered at 'In [1]'.</span>"
   ]
  },
  {
   "cell_type": "code",
   "execution_count": 1,
   "metadata": {
    "papermill": {
     "duration": 0.006408,
     "end_time": "2018-03-08T15:25:07.308643",
     "exception": true,
     "start_time": "2018-03-08T15:25:07.302235",
     "status": "completed"
    },
    "tags": []
   },
   "outputs": [
    {
     "ename": "IndentationError",
     "evalue": "unexpected indent (<ipython-input-1-809d87168712>, line 2)",
     "output_type": "error",
     "traceback": [
      "\u001b[0;36m  File \u001b[0;32m\"<ipython-input-1-809d87168712>\"\u001b[0;36m, line \u001b[0;32m2\u001b[0m\n\u001b[0;31m    os.system('killall -s SIGKILL -u wolfm2')\u001b[0m\n\u001b[0m    ^\u001b[0m\n\u001b[0;31mIndentationError\u001b[0m\u001b[0;31m:\u001b[0m unexpected indent\n"
     ]
    }
   ],
   "source": [
    "import os\n",
    " os.system('killall -s SIGKILL -u wolfm2')\n",
    "# (\"sdf/sfdf/fdfs\").split(\"/\")[-2] # rsync only dir\n",
    "# date \"+%y-%m-%d\" # moving job.log to .\n",
    "os.system('ps aux > out.txt') "
   ]
  }
 ],
 "metadata": {
  "kernelspec": {
   "display_name": "Python 3",
   "language": "python",
   "name": "python3"
  },
  "language_info": {
   "codemirror_mode": {
    "name": "ipython",
    "version": 3
   },
   "file_extension": ".py",
   "mimetype": "text/x-python",
   "name": "python",
   "nbconvert_exporter": "python",
   "pygments_lexer": "ipython3",
   "version": "3.6.3"
  },
  "papermill": {
   "duration": 1.2157,
   "end_time": "2018-03-08T15:25:07.783229",
   "environment_variables": {},
   "exception": true,
   "output_path": "output.ipynb",
   "parameters": null,
   "start_time": "2018-03-08T15:25:06.567529",
   "version": "0.12.4"
  }
 },
 "nbformat": 4,
 "nbformat_minor": 2
}
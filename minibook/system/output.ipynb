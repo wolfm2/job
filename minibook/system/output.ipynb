{
 "cells": [
  {
   "cell_type": "code",
   "execution_count": 1,
   "metadata": {
    "papermill": {
     "duration": 0.034053,
     "end_time": "2018-03-09T18:44:05.649372",
     "exception": false,
     "start_time": "2018-03-09T18:44:05.615319",
     "status": "completed"
    },
    "tags": []
   },
   "outputs": [
    {
     "data": {
      "text/plain": [
       "0"
      ]
     },
     "execution_count": 1,
     "metadata": {},
     "output_type": "execute_result"
    }
   ],
   "source": [
    "import os\n",
    "# os.system('killall -s SIGKILL -u wolfm2')\n",
    "# (\"sdf/sfdf/fdfs\").split(\"/\")[-2] # rsync only dir\n",
    "# date \"+%y-%m-%d\" # moving job.log to .\n",
    "os.system('ps aux > out.txt')"
   ]
  }
 ],
 "metadata": {
  "kernelspec": {
   "display_name": "Python 3",
   "language": "python",
   "name": "python3"
  },
  "language_info": {
   "codemirror_mode": {
    "name": "ipython",
    "version": 3
   },
   "file_extension": ".py",
   "mimetype": "text/x-python",
   "name": "python",
   "nbconvert_exporter": "python",
   "pygments_lexer": "ipython3",
   "version": "3.6.3"
  },
  "papermill": {
   "duration": 1.214777,
   "end_time": "2018-03-09T18:44:06.082772",
   "environment_variables": {},
   "exception": false,
   "output_path": "output.ipynb",
   "parameters": null,
   "start_time": "2018-03-09T18:44:04.867995",
   "version": "0.12.4"
  }
 },
 "nbformat": 4,
 "nbformat_minor": 2
}
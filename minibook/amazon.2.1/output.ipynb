{
 "cells": [
  {
   "cell_type": "markdown",
   "metadata": {
    "papermill": {
     "duration": 0.002425,
     "end_time": "2018-04-12T15:06:09.519233",
     "exception": false,
     "start_time": "2018-04-12T15:06:09.516808",
     "status": "completed"
    },
    "tags": []
   },
   "source": [
    "# Training Set"
   ]
  },
  {
   "cell_type": "code",
   "execution_count": 1,
   "metadata": {
    "collapsed": true,
    "papermill": {
     "duration": 0.294564,
     "end_time": "2018-04-12T15:06:09.853467",
     "exception": false,
     "start_time": "2018-04-12T15:06:09.558903",
     "status": "completed"
    },
    "tags": []
   },
   "outputs": [],
   "source": [
    "import numpy as np\n",
    "import pandas as pd \n",
    "import matplotlib.pyplot as plt\n",
    "from sklearn.externals import joblib\n",
    "%matplotlib inline   "
   ]
  },
  {
   "cell_type": "code",
   "execution_count": 2,
   "metadata": {
    "papermill": {
     "duration": 0.019504,
     "end_time": "2018-04-12T15:06:09.873062",
     "exception": false,
     "start_time": "2018-04-12T15:06:09.853558",
     "status": "completed"
    },
    "tags": []
   },
   "outputs": [],
   "source": [
    "import os \n",
    "os.system('ps aux | grep wolfm2')\n",
    "#os.system('killall -s SIGKILL -u wolfm2')\n",
    "#os.system('cp /home/wolfm2/job.sh .; echo test 1>&2') #; cp ../job.log ../jerbb.txt')\n",
    "\n",
    "isTraining = True"
   ]
  },
  {
   "cell_type": "markdown",
   "metadata": {
    "papermill": {
     "duration": 2e-05,
     "end_time": "2018-04-12T15:06:09.873123",
     "exception": false,
     "start_time": "2018-04-12T15:06:09.873103",
     "status": "completed"
    },
    "tags": []
   },
   "source": [
    "### Read raw training data"
   ]
  },
  {
   "cell_type": "code",
   "execution_count": 3,
   "metadata": {
    "papermill": {
     "duration": 1.382183,
     "end_time": "2018-04-12T15:06:11.263988",
     "exception": false,
     "start_time": "2018-04-12T15:06:09.881805",
     "status": "completed"
    },
    "tags": []
   },
   "outputs": [
    {
     "name": "stdout",
     "output_type": "stream",
     "text": [
      "(318500, 14)\n"
     ]
    }
   ],
   "source": [
    "if isTraining:\n",
    "    amazon = pd.read_csv('/home/wolfm2/amazon_data.0/raw_data_train.csv')\n",
    "    #amazon = pd.read_csv('/home/eydu/amazon_data/raw_data_train.csv')\n",
    "    #amazon = pd.read_csv('/home/ich/amazon_data/raw_data_train.csv')\n",
    "else:\n",
    "    amazon = pd.read_csv('/home/wolfm2/amazon_data.0/raw_data_test.csv')\n",
    "\n",
    "print(amazon.shape)"
   ]
  },
  {
   "cell_type": "code",
   "execution_count": 4,
   "metadata": {
    "papermill": {
     "duration": 0.017853,
     "end_time": "2018-04-12T15:06:11.281930",
     "exception": false,
     "start_time": "2018-04-12T15:06:11.264077",
     "status": "completed"
    },
    "scrolled": true,
    "tags": []
   },
   "outputs": [
    {
     "name": "stdout",
     "output_type": "stream",
     "text": [
      "   Unnamed: 0  Unnamed: 0.1      Id   ProductId          UserId  \\\n",
      "0       39590        218604  218605  B003TWBUWI  A3W25DGQAN3BCA   \n",
      "1      366204        203525  203526  B000CQC04Q  A3QLP6M4RIT77H   \n",
      "2      292985        358338  358339  B001EO5Y7K  A1Q7A78VSQ5GQ4   \n",
      "3      425853        203051  203052  B000KEVF1O   A6NAF9GQHKOVO   \n",
      "4      205723        483843  483844  B003XDH6M6  A1X8BQQGCEHQ1V   \n",
      "\n",
      "                       ProfileName  HelpfulnessNumerator  \\\n",
      "0                          glouise                     1   \n",
      "1                       Snow Bound                     1   \n",
      "2  Nice Lady \"a reasonable person\"                     0   \n",
      "3                   KlutinaQuilter                     0   \n",
      "4   Kim Cantrell \"Soap Box Bandit\"                     1   \n",
      "\n",
      "   HelpfulnessDenominator  Score        Time  \\\n",
      "0                       1      4  1341705600   \n",
      "1                       1      5  1267228800   \n",
      "2                       0      5  1325980800   \n",
      "3                       0      5  1310342400   \n",
      "4                       2      2  1318291200   \n",
      "\n",
      "                                             Summary  \\\n",
      "0                            4 with reservations....   \n",
      "1                         I'm in LOVE with this tea!   \n",
      "2  Have tried many varieties of Turkish delight. ...   \n",
      "3                      Greenies, how can you say no?   \n",
      "4                   Stays With You Long After Eating   \n",
      "\n",
      "                                                Text  helpScore  helpful  \n",
      "0  Okay, these were very moist and they did have ...        1.0    False  \n",
      "1  It is sinfully delicious and a nice way to end...        1.0    False  \n",
      "2  This Turkish Delight is soft and delectable. A...        NaN    False  \n",
      "3  Of course dogs love Greenies!  I was happy to ...        NaN    False  \n",
      "4  I love Pomegranate.  I love licorice.  I love ...        0.5    False  \n",
      "0.0732025117739\n"
     ]
    }
   ],
   "source": [
    "print(amazon.head())\n",
    "print(amazon['helpful'].mean())"
   ]
  },
  {
   "cell_type": "markdown",
   "metadata": {
    "papermill": {
     "duration": 6e-06,
     "end_time": "2018-04-12T15:06:11.281970",
     "exception": false,
     "start_time": "2018-04-12T15:06:11.281964",
     "status": "completed"
    },
    "tags": []
   },
   "source": [
    "### Feature extraction on natural language data"
   ]
  },
  {
   "cell_type": "code",
   "execution_count": 5,
   "metadata": {
    "collapsed": true,
    "papermill": {
     "duration": 0.011866,
     "end_time": "2018-04-12T15:06:11.303521",
     "exception": false,
     "start_time": "2018-04-12T15:06:11.291655",
     "status": "completed"
    },
    "tags": []
   },
   "outputs": [],
   "source": [
    "# # http://scikit-learn.org/stable/modules/generated/sklearn.feature_extraction.text.CountVectorizer.html\n",
    "# from sklearn.feature_extraction.text import CountVectorizer\n",
    "# vectorizer = CountVectorizer()\n",
    "# corpus = amazon.Text.as_matrix()\n",
    "# X_bag_of_words = vectorizer.fit_transform(corpus)\n",
    "# print(X_bag_of_words.toarray())"
   ]
  },
  {
   "cell_type": "code",
   "execution_count": 6,
   "metadata": {
    "collapsed": true,
    "papermill": {
     "duration": 0.198815,
     "end_time": "2018-04-12T15:06:11.502368",
     "exception": false,
     "start_time": "2018-04-12T15:06:11.303553",
     "status": "completed"
    },
    "tags": []
   },
   "outputs": [],
   "source": [
    "import nltk\n",
    "# nltk.download('punkt')\n",
    "# nltk.download('popular')\n",
    "\n",
    "from nltk import word_tokenize          \n",
    "from nltk.stem import WordNetLemmatizer \n",
    "\n",
    "class LemmaTokenizer(object):\n",
    "    def __init__(self):\n",
    "        self.wnl = WordNetLemmatizer()\n",
    "    def __call__(self, doc):\n",
    "        return [self.wnl.lemmatize(t) for t in word_tokenize(doc)]"
   ]
  },
  {
   "cell_type": "code",
   "execution_count": 7,
   "metadata": {
    "collapsed": true,
    "papermill": {
     "duration": 238.817514,
     "end_time": "2018-04-12T15:10:10.319973",
     "exception": false,
     "start_time": "2018-04-12T15:06:11.502459",
     "status": "completed"
    },
    "scrolled": true,
    "tags": []
   },
   "outputs": [
    {
     "name": "stderr",
     "output_type": "stream",
     "text": [
      "/home/wolfm2/anaconda3/lib/python3.6/site-packages/sklearn/feature_extraction/hashing.py:94: DeprecationWarning: the option non_negative=True has been deprecated in 0.19 and will be removed in version 0.21.\n",
      "  \" in version 0.21.\", DeprecationWarning)\n",
      "/home/wolfm2/anaconda3/lib/python3.6/site-packages/sklearn/feature_extraction/hashing.py:94: DeprecationWarning: the option non_negative=True has been deprecated in 0.19 and will be removed in version 0.21.\n",
      "  \" in version 0.21.\", DeprecationWarning)\n"
     ]
    },
    {
     "name": "stderr",
     "output_type": "stream",
     "text": [
      "/home/wolfm2/anaconda3/lib/python3.6/site-packages/sklearn/feature_extraction/hashing.py:94: DeprecationWarning: the option non_negative=True has been deprecated in 0.19 and will be removed in version 0.21.\n",
      "  \" in version 0.21.\", DeprecationWarning)\n",
      "/home/wolfm2/anaconda3/lib/python3.6/site-packages/sklearn/feature_extraction/hashing.py:94: DeprecationWarning: the option non_negative=True has been deprecated in 0.19 and will be removed in version 0.21.\n",
      "  \" in version 0.21.\", DeprecationWarning)\n"
     ]
    },
    {
     "name": "stdout",
     "output_type": "stream",
     "text": [
      "(318500, 524288)\n"
     ]
    }
   ],
   "source": [
    "# vectorize Bag of Words from review text; as sparse matrix\n",
    "from sklearn.feature_extraction.text import HashingVectorizer\n",
    "\n",
    "# amazon['reviewLen'] = amazon['Text'].str.len() # Use this later /X as gross dummy\n",
    "\n",
    "amazon['textLower'] = amazon['Text'].str.lower()\n",
    "# look at the text  token_pattern = r'\\b[a-zA-Z0-9]{3,}\\b',\n",
    "if isTraining:\n",
    "    hv0 = HashingVectorizer(n_features=2 ** 19, non_negative=True, tokenizer=LemmaTokenizer(), strip_accents=ascii,  stop_words={'english'}, token_pattern = r'\\b[a-zA-Z]{3,}\\b', ngram_range=(1,3))\n",
    "    X_hv0 = hv0.fit_transform(amazon.textLower)\n",
    "    joblib.dump(hv0, 'hv0.pkl') # pickle\n",
    "else:\n",
    "    hv0 = joblib.load('hv0.pkl') # pickle\n",
    "    X_hv0 = hv0.transform(amazon.textLower)\n",
    "\n",
    "\n",
    "# amazon['summaryFilter'] = amazon['Summary'].apply(lambda x: \" \" if x is np.nan else x) # some were np.nans\n",
    "# amazon['sfLower'] = amazon['summaryFilter'].str.lower()\n",
    "# # and a second domain where we look at the summary\n",
    "# if isTraining:\n",
    "#     hv1 = HashingVectorizer(n_features=2 ** 19, non_negative=True, tokenizer=LemmaTokenizer(), ngram_range=(1,3))\n",
    "#     X_hv1 = hv1.fit_transform(amazon.sfLower) \n",
    "#     joblib.dump(hv1, 'hv1.pkl') # pickle\n",
    "# else:\n",
    "#     hv1 = joblib.load('hv1.pkl') # pickle\n",
    "#     X_hv1 = hv1.transform(amazon.sfLower) \n",
    "\n",
    "# Another hash domain we want to count but not tfidf\n",
    "# amazon['timeFilter'] = amazon['Time'].apply(lambda x: str(int(x)%(86400 * 7))) # converts to day of week\n",
    "# hv2 = HashingVectorizer(n_features=2 ** 17, non_negative=True, strip_accents=ascii, \n",
    "#                            ngram_range=(1,1)) \n",
    "# X_hv2 = hv2.fit_transform(amazon.timeFilter + \" \" + amazon.ProductId + \" \" + amazon.UserId) # mw adds uid as token\n",
    "\n",
    "# amazon['logReviewLen'] = np.round(np.log(amazon['Text'].str.len()),decimals=1) + 10\n",
    "# amazon.hist(column=\"logReviewLen\")\n",
    "\n",
    "amazon['ScoreX'] = amazon['Score'].apply(lambda x: str(x)) # make score acceptable\n",
    "# amazon['sLogReviewLen'] = amazon['logReviewLen'].apply(lambda x: str(x)) # make score acceptable\n",
    "if isTraining:\n",
    "    hv2 = HashingVectorizer(n_features=2 ** 17, non_negative=True, ngram_range=(1,1)) \n",
    "    X_hv2 = hv2.fit_transform(amazon.ScoreX) # mw adds uid as token\n",
    "    joblib.dump(hv2, 'hv2.pkl') # pickle\n",
    "else:\n",
    "    hv2 = joblib.load('hv2.pkl') # pickle\n",
    "    X_hv2 = hv2.transform(amazon.ScoreX) # mw adds uid as token\n",
    "\n",
    "import scipy.sparse as sp\n",
    "X_hv = sp.hstack([X_hv0], format='csr')\n",
    "print(X_hv.shape)"
   ]
  },
  {
   "cell_type": "code",
   "execution_count": 8,
   "metadata": {
    "papermill": {
     "duration": 0.012166,
     "end_time": "2018-04-12T15:10:10.332231",
     "exception": false,
     "start_time": "2018-04-12T15:10:10.320065",
     "status": "completed"
    },
    "tags": []
   },
   "outputs": [],
   "source": [
    "# x = amazon.UserId + \" \" +  amazon.Text\n",
    "# x.head(10)"
   ]
  },
  {
   "cell_type": "code",
   "execution_count": 9,
   "metadata": {
    "papermill": {
     "duration": 0.013546,
     "end_time": "2018-04-12T15:10:10.345811",
     "exception": false,
     "start_time": "2018-04-12T15:10:10.332265",
     "status": "completed"
    },
    "tags": []
   },
   "outputs": [],
   "source": [
    "# We want to be able to use this model fit on other data (the test set)\n",
    "# So let's save a copy of this instance of HashingVectorizer to be able to transform other data with this fit\n",
    "# http://scikit-learn.org/stable/modules/model_persistence.html\n",
    "# if isTraining:\n",
    "#     joblib.dump(hv0, 'hv0.pkl') # pickle\n",
    "#     joblib.dump(hv1, 'hv1.pkl') # pickle\n",
    "#     joblib.dump(hv2, 'hv2.pkl') # pickle"
   ]
  },
  {
   "cell_type": "code",
   "execution_count": 10,
   "metadata": {
    "papermill": {
     "duration": 8.305676,
     "end_time": "2018-04-12T15:10:18.651519",
     "exception": false,
     "start_time": "2018-04-12T15:10:10.345843",
     "status": "completed"
    },
    "tags": []
   },
   "outputs": [],
   "source": [
    "# http://scikit-learn.org/stable/modules/generated/sklearn.feature_extraction.text.TfidfTransformer.html\n",
    "from sklearn.feature_extraction.text import TfidfTransformer\n",
    "if isTraining:\n",
    "    transformer = TfidfTransformer()\n",
    "    X_tfidf = transformer.fit_transform(X_hv)\n",
    "    joblib.dump(transformer, 'transformer.pkl') # pickle\n",
    "else:\n",
    "    transformer = joblib.load('transformer.pkl') # pickle\n",
    "    X_tfidf = transformer.transform(X_hv)\n",
    "    "
   ]
  },
  {
   "cell_type": "code",
   "execution_count": 11,
   "metadata": {
    "papermill": {
     "duration": 0.01048,
     "end_time": "2018-04-12T15:10:18.662085",
     "exception": false,
     "start_time": "2018-04-12T15:10:18.651605",
     "status": "completed"
    },
    "tags": []
   },
   "outputs": [
    {
     "name": "stdout",
     "output_type": "stream",
     "text": [
      "<class 'scipy.sparse.csr.csr_matrix'>\n"
     ]
    }
   ],
   "source": [
    "print(type(X_tfidf))"
   ]
  },
  {
   "cell_type": "markdown",
   "metadata": {
    "collapsed": true,
    "papermill": {
     "duration": 7e-06,
     "end_time": "2018-04-12T15:10:18.664667",
     "exception": false,
     "start_time": "2018-04-12T15:10:18.664660",
     "status": "completed"
    },
    "tags": []
   },
   "source": [
    "### Create additional quantitative features"
   ]
  },
  {
   "cell_type": "code",
   "execution_count": 12,
   "metadata": {
    "collapsed": true,
    "papermill": {
     "duration": 10.811765,
     "end_time": "2018-04-12T15:10:29.486153",
     "exception": false,
     "start_time": "2018-04-12T15:10:18.674388",
     "status": "completed"
    },
    "tags": []
   },
   "outputs": [],
   "source": [
    "# features from Amazon.csv to add to feature set\n",
    "import re\n",
    "\n",
    "#amazon['reviewLen'] = amazon['Text'].str.len()\n",
    "#amazon['summaryLen'] = amazon['summaryFilter'].str.len()\n",
    "\n",
    "#amazon['rlMeanDist'] = amazon['reviewLen'].apply(lambda x: abs(x-80)) # 80 is avg summary len. Thx George!\n",
    "#amazon['slMeanDist'] = amazon['summaryLen'].apply(lambda x: abs(x-8)) # 8. just guessing here.\n",
    "\n",
    "#import zlib\n",
    "#amazon['nameHash'] = zlib.crc32(str(amazon['UserId']).encode('utf8'))\n",
    "#amazon['nameHash'] = amazon['UserId'].apply(lambda x: zlib.crc32(str(x).encode('utf8'))) # bad. don't do it this way\n",
    "\n",
    "# stackoverflow.com/questions/15772371/finding-average-length-of-items-in-a-list-python\n",
    "# averages array element lengths\n",
    "def avgLen(text, regex):\n",
    "    lst = re.findall(regex, text)\n",
    "    lengths = [len(i) for i in lst]\n",
    "    return 0 if len(lengths) == 0 else (float(sum(lengths)) / len(lengths)) \n",
    "\n",
    "# ratio of regex to whole\n",
    "def cRatio(text, regex):\n",
    "    num = len(re.findall(regex, text))\n",
    "    text = \"\" if text is np.nan else text\n",
    "    den = len(text)\n",
    "    return 0 if den == 0 else num / den\n",
    "\n",
    "# Review Len\n",
    "amazon['summaryLen'] = amazon['Text'].str.len()\n",
    "\n",
    "# Num Words\n",
    "amazon['numWords'] = amazon['Text'].apply(lambda x: len(re.findall(\"[a-zA-Z']+\", x)))\n",
    "\n",
    "# Num Cap Words\n",
    "amazon['numCapWords'] = amazon['Text'].apply(lambda x: len(re.findall(\"[A-Z']+\", x)))\n",
    "\n",
    "# Avg Sentence Len\n",
    "amazon['avgSenLen'] = amazon['Text'].apply(lambda x: avgLen(x, \"[a-zA-Z' ]+\"))\n",
    "\n",
    "# Avg Word Len\n",
    "amazon['avgWrdLen'] = amazon['Text'].apply(lambda x: avgLen(x, \"[a-zA-Z']+\"))\n",
    "\n",
    "# ! Ratio\n",
    "# amazon['ratioBang'] = amazon['Text'].apply(lambda x: cRatio(x, \"\\!\"))\n",
    "\n",
    "# ? Ratio                             \n",
    "# amazon['ratioQmark'] = amazon['Text'].apply(lambda x: cRatio(x, \"\\?\"))\n",
    "\n",
    "# X_quant_features = amazon[[\"Score\", \"reviewLen\", \"summaryLen\", \"rlMeanDist\", \"slMeanDist\"]]\n",
    "# print(X_quant_features.head(10))\n",
    "# print(type(X_quant_features))\n",
    "X_quant_features = amazon[['summaryLen', 'numWords', 'numCapWords', 'avgSenLen', 'avgWrdLen']]"
   ]
  },
  {
   "cell_type": "markdown",
   "metadata": {
    "papermill": {
     "duration": 6e-06,
     "end_time": "2018-04-12T15:10:29.486252",
     "exception": false,
     "start_time": "2018-04-12T15:10:29.486246",
     "status": "completed"
    },
    "tags": []
   },
   "source": [
    "### Combine all quantitative features into a single sparse matrix"
   ]
  },
  {
   "cell_type": "code",
   "execution_count": 13,
   "metadata": {
    "collapsed": true,
    "papermill": {
     "duration": 16.485591,
     "end_time": "2018-04-12T15:10:45.981705",
     "exception": false,
     "start_time": "2018-04-12T15:10:29.496114",
     "status": "completed"
    },
    "tags": []
   },
   "outputs": [
    {
     "name": "stdout",
     "output_type": "stream",
     "text": [
      "(318500, 655365)\n"
     ]
    }
   ],
   "source": [
    "from scipy.sparse import csr_matrix, hstack\n",
    "X_quant_features_csr = csr_matrix(X_quant_features)\n",
    "X_combined = hstack([X_tfidf, X_quant_features_csr, X_hv2])  # we dont want to penalize hv2 w tfidf MW\n",
    "X_matrix = csr_matrix(X_combined) # convert to sparse matrix\n",
    "print(X_matrix.shape)"
   ]
  },
  {
   "cell_type": "markdown",
   "metadata": {
    "papermill": {
     "duration": 7e-06,
     "end_time": "2018-04-12T15:10:45.981804",
     "exception": false,
     "start_time": "2018-04-12T15:10:45.981797",
     "status": "completed"
    },
    "tags": []
   },
   "source": [
    "### Create `X`, scaled matrix of features"
   ]
  },
  {
   "cell_type": "code",
   "execution_count": 14,
   "metadata": {
    "papermill": {
     "duration": 2.143743,
     "end_time": "2018-04-12T15:10:48.135343",
     "exception": false,
     "start_time": "2018-04-12T15:10:45.991600",
     "status": "completed"
    },
    "tags": []
   },
   "outputs": [
    {
     "name": "stdout",
     "output_type": "stream",
     "text": [
      "(318500, 655365)\n"
     ]
    }
   ],
   "source": [
    "# feature scaling\n",
    "from sklearn.preprocessing import StandardScaler\n",
    "if isTraining:\n",
    "    sc = StandardScaler(with_mean=False)\n",
    "    X = sc.fit_transform(X_matrix)\n",
    "    joblib.dump(sc, 'sc.pkl') # pickle\n",
    "else:\n",
    "    sc = joblib.load('sc.pkl')\n",
    "    X = sc.transform(X_matrix)\n",
    "\n",
    "print(X.shape)"
   ]
  },
  {
   "cell_type": "markdown",
   "metadata": {
    "papermill": {
     "duration": 2.1e-05,
     "end_time": "2018-04-12T15:10:48.135448",
     "exception": false,
     "start_time": "2018-04-12T15:10:48.135427",
     "status": "completed"
    },
    "tags": []
   },
   "source": [
    "### create `y`, vector of Labels"
   ]
  },
  {
   "cell_type": "code",
   "execution_count": 15,
   "metadata": {
    "papermill": {
     "duration": 0.011909,
     "end_time": "2018-04-12T15:10:48.157227",
     "exception": false,
     "start_time": "2018-04-12T15:10:48.145318",
     "status": "completed"
    },
    "tags": []
   },
   "outputs": [
    {
     "name": "stdout",
     "output_type": "stream",
     "text": [
      "<class 'numpy.ndarray'>\n"
     ]
    }
   ],
   "source": [
    "y = amazon['helpful'].values\n",
    "print(type(y))"
   ]
  },
  {
   "cell_type": "markdown",
   "metadata": {
    "papermill": {
     "duration": 5e-06,
     "end_time": "2018-04-12T15:10:48.157263",
     "exception": false,
     "start_time": "2018-04-12T15:10:48.157258",
     "status": "completed"
    },
    "tags": []
   },
   "source": [
    "### fit models"
   ]
  },
  {
   "cell_type": "code",
   "execution_count": 16,
   "metadata": {
    "collapsed": true,
    "papermill": {
     "duration": 0.009477,
     "end_time": "2018-04-12T15:10:48.176763",
     "exception": false,
     "start_time": "2018-04-12T15:10:48.167286",
     "status": "completed"
    },
    "tags": []
   },
   "outputs": [],
   "source": [
    "from my_measures import BinaryClassificationPerformance"
   ]
  },
  {
   "cell_type": "code",
   "execution_count": 17,
   "metadata": {
    "papermill": {
     "duration": 0.012019,
     "end_time": "2018-04-12T15:10:48.191384",
     "exception": false,
     "start_time": "2018-04-12T15:10:48.179365",
     "status": "completed"
    },
    "tags": []
   },
   "outputs": [],
   "source": [
    "# # MODEL: SVM, linear\n",
    "# from sklearn import linear_model\n",
    "# svm = linear_model.SGDClassifier()\n",
    "# svm.fit(X, y)\n",
    "\n",
    "# joblib.dump(svm, 'svm.pkl') # pickle\n",
    "\n",
    "if not isTraining:\n",
    "    svm = joblib.load('best.svm.pkl')\n",
    "    svm_performance = BinaryClassificationPerformance(svm.predict(X), y, 'svm')\n",
    "    svm_performance.compute_measures()\n",
    "    print(svm_performance.performance_measures)"
   ]
  },
  {
   "cell_type": "code",
   "execution_count": 18,
   "metadata": {
    "papermill": {
     "duration": 0.012395,
     "end_time": "2018-04-12T15:10:48.203932",
     "exception": false,
     "start_time": "2018-04-12T15:10:48.191537",
     "status": "completed"
    },
    "tags": []
   },
   "outputs": [],
   "source": [
    "# # MODEL: logistic regression\n",
    "# from sklearn import linear_model\n",
    "# #lgs = linear_model.SGDClassifier(loss='log', n_iter=50, alpha=0.00001)\n",
    "# lgs = linear_model.SGDClassifier(loss='log', n_iter=1000, alpha=0.1)\n",
    "\n",
    "# lgs.fit(X, y)\n",
    "# joblib.dump(lgs, 'lgs.pkl') # pickle\n",
    "if not isTraining:\n",
    "    lgs = joblib.load('best.lgs.pkl')\n",
    "    lgs_performance = BinaryClassificationPerformance(lgs.predict(X), y, 'lgs')\n",
    "    lgs_performance.compute_measures()\n",
    "    print(lgs_performance.performance_measures)"
   ]
  },
  {
   "cell_type": "code",
   "execution_count": 19,
   "metadata": {
    "papermill": {
     "duration": 0.011774,
     "end_time": "2018-04-12T15:10:48.217302",
     "exception": false,
     "start_time": "2018-04-12T15:10:48.205528",
     "status": "completed"
    },
    "tags": []
   },
   "outputs": [],
   "source": [
    "# # MODEL: Naive Bayes\n",
    "# from sklearn.naive_bayes import MultinomialNB\n",
    "# nbs = MultinomialNB()\n",
    "# nbs.fit(X, y)\n",
    "# joblib.dump(nbs, 'nbs.pkl') # pickle\n",
    "if not isTraining:\n",
    "    nbs = joblib.load('best.nbs.pkl')\n",
    "    nbs_performance = BinaryClassificationPerformance(nbs.predict(X), y, 'nbs')\n",
    "    nbs_performance.compute_measures()\n",
    "    print(nbs_performance.performance_measures)"
   ]
  },
  {
   "cell_type": "code",
   "execution_count": 20,
   "metadata": {
    "papermill": {
     "duration": 0.013264,
     "end_time": "2018-04-12T15:10:48.232659",
     "exception": false,
     "start_time": "2018-04-12T15:10:48.219395",
     "status": "completed"
    },
    "tags": []
   },
   "outputs": [],
   "source": [
    "# # MODEL: Ridge Regression Classifier\n",
    "# from sklearn import linear_model\n",
    "# rdg = linear_model.RidgeClassifier()\n",
    "# rdg.fit(X, y)\n",
    "# joblib.dump(rdg, 'rdg.pkl') # pickle\n",
    "if not isTraining:\n",
    "    rdg = joblib.load('best.rdg.pkl')\n",
    "    rdg_performance = BinaryClassificationPerformance(rdg.predict(X), y, 'rdg')\n",
    "    rdg_performance.compute_measures()\n",
    "    print(rdg_performance.performance_measures)"
   ]
  },
  {
   "cell_type": "code",
   "execution_count": 21,
   "metadata": {
    "papermill": {
     "duration": 0.015101,
     "end_time": "2018-04-12T15:10:48.247792",
     "exception": false,
     "start_time": "2018-04-12T15:10:48.232691",
     "status": "completed"
    },
    "tags": []
   },
   "outputs": [],
   "source": [
    "# # MODEL: Perceptron\n",
    "# from sklearn import linear_model\n",
    "# prc = linear_model.SGDClassifier(loss='perceptron')\n",
    "# prc.fit(X, y)\n",
    "# joblib.dump(prc, 'prc.pkl') # pickle\n",
    "if not isTraining:\n",
    "    prc = joblib.load('best.prc.pkl')\n",
    "    prc_performance = BinaryClassificationPerformance(prc.predict(X), y, 'prc')\n",
    "    prc_performance.compute_measures()\n",
    "    print(prc_performance.performance_measures)"
   ]
  },
  {
   "cell_type": "code",
   "execution_count": 22,
   "metadata": {
    "collapsed": true,
    "papermill": {
     "duration": 12071.736285,
     "end_time": "2018-04-12T18:31:59.984144",
     "exception": false,
     "start_time": "2018-04-12T15:10:48.247859",
     "status": "completed"
    },
    "tags": []
   },
   "outputs": [
    {
     "name": "stderr",
     "output_type": "stream",
     "text": [
      "/home/wolfm2/anaconda3/lib/python3.6/site-packages/sklearn/linear_model/stochastic_gradient.py:117: DeprecationWarning: n_iter parameter is deprecated in 0.19 and will be removed in 0.21. Use max_iter and tol instead.\n",
      "  DeprecationWarning)\n"
     ]
    },
    {
     "name": "stderr",
     "output_type": "stream",
     "text": [
      "/home/wolfm2/anaconda3/lib/python3.6/site-packages/sklearn/linear_model/stochastic_gradient.py:117: DeprecationWarning: n_iter parameter is deprecated in 0.19 and will be removed in 0.21. Use max_iter and tol instead.\n",
      "  DeprecationWarning)\n"
     ]
    },
    {
     "name": "stderr",
     "output_type": "stream",
     "text": [
      "/home/wolfm2/anaconda3/lib/python3.6/site-packages/sklearn/linear_model/stochastic_gradient.py:117: DeprecationWarning: n_iter parameter is deprecated in 0.19 and will be removed in 0.21. Use max_iter and tol instead.\n",
      "  DeprecationWarning)\n"
     ]
    },
    {
     "name": "stderr",
     "output_type": "stream",
     "text": [
      "/home/wolfm2/anaconda3/lib/python3.6/site-packages/sklearn/linear_model/stochastic_gradient.py:117: DeprecationWarning: n_iter parameter is deprecated in 0.19 and will be removed in 0.21. Use max_iter and tol instead.\n",
      "  DeprecationWarning)\n"
     ]
    },
    {
     "name": "stderr",
     "output_type": "stream",
     "text": [
      "/home/wolfm2/anaconda3/lib/python3.6/site-packages/sklearn/linear_model/stochastic_gradient.py:117: DeprecationWarning: n_iter parameter is deprecated in 0.19 and will be removed in 0.21. Use max_iter and tol instead.\n",
      "  DeprecationWarning)\n"
     ]
    },
    {
     "name": "stderr",
     "output_type": "stream",
     "text": [
      "/home/wolfm2/anaconda3/lib/python3.6/site-packages/sklearn/linear_model/stochastic_gradient.py:117: DeprecationWarning: n_iter parameter is deprecated in 0.19 and will be removed in 0.21. Use max_iter and tol instead.\n",
      "  DeprecationWarning)\n"
     ]
    },
    {
     "name": "stderr",
     "output_type": "stream",
     "text": [
      "/home/wolfm2/anaconda3/lib/python3.6/site-packages/sklearn/linear_model/stochastic_gradient.py:117: DeprecationWarning: n_iter parameter is deprecated in 0.19 and will be removed in 0.21. Use max_iter and tol instead.\n",
      "  DeprecationWarning)\n"
     ]
    },
    {
     "name": "stderr",
     "output_type": "stream",
     "text": [
      "/home/wolfm2/anaconda3/lib/python3.6/site-packages/sklearn/linear_model/stochastic_gradient.py:117: DeprecationWarning: n_iter parameter is deprecated in 0.19 and will be removed in 0.21. Use max_iter and tol instead.\n",
      "  DeprecationWarning)\n"
     ]
    },
    {
     "name": "stderr",
     "output_type": "stream",
     "text": [
      "/home/wolfm2/anaconda3/lib/python3.6/site-packages/sklearn/linear_model/stochastic_gradient.py:117: DeprecationWarning: n_iter parameter is deprecated in 0.19 and will be removed in 0.21. Use max_iter and tol instead.\n",
      "  DeprecationWarning)\n"
     ]
    },
    {
     "name": "stderr",
     "output_type": "stream",
     "text": [
      "/home/wolfm2/anaconda3/lib/python3.6/site-packages/sklearn/linear_model/stochastic_gradient.py:117: DeprecationWarning: n_iter parameter is deprecated in 0.19 and will be removed in 0.21. Use max_iter and tol instead.\n",
      "  DeprecationWarning)\n"
     ]
    },
    {
     "name": "stderr",
     "output_type": "stream",
     "text": [
      "/home/wolfm2/anaconda3/lib/python3.6/site-packages/sklearn/linear_model/stochastic_gradient.py:117: DeprecationWarning: n_iter parameter is deprecated in 0.19 and will be removed in 0.21. Use max_iter and tol instead.\n",
      "  DeprecationWarning)\n"
     ]
    },
    {
     "name": "stderr",
     "output_type": "stream",
     "text": [
      "/home/wolfm2/anaconda3/lib/python3.6/site-packages/sklearn/linear_model/stochastic_gradient.py:117: DeprecationWarning: n_iter parameter is deprecated in 0.19 and will be removed in 0.21. Use max_iter and tol instead.\n",
      "  DeprecationWarning)\n"
     ]
    },
    {
     "name": "stderr",
     "output_type": "stream",
     "text": [
      "/home/wolfm2/anaconda3/lib/python3.6/site-packages/sklearn/linear_model/stochastic_gradient.py:117: DeprecationWarning: n_iter parameter is deprecated in 0.19 and will be removed in 0.21. Use max_iter and tol instead.\n",
      "  DeprecationWarning)\n"
     ]
    },
    {
     "name": "stderr",
     "output_type": "stream",
     "text": [
      "/home/wolfm2/anaconda3/lib/python3.6/site-packages/sklearn/linear_model/stochastic_gradient.py:117: DeprecationWarning: n_iter parameter is deprecated in 0.19 and will be removed in 0.21. Use max_iter and tol instead.\n",
      "  DeprecationWarning)\n"
     ]
    },
    {
     "name": "stderr",
     "output_type": "stream",
     "text": [
      "/home/wolfm2/anaconda3/lib/python3.6/site-packages/sklearn/linear_model/stochastic_gradient.py:117: DeprecationWarning: n_iter parameter is deprecated in 0.19 and will be removed in 0.21. Use max_iter and tol instead.\n",
      "  DeprecationWarning)\n"
     ]
    },
    {
     "name": "stderr",
     "output_type": "stream",
     "text": [
      "/home/wolfm2/anaconda3/lib/python3.6/site-packages/sklearn/linear_model/stochastic_gradient.py:117: DeprecationWarning: n_iter parameter is deprecated in 0.19 and will be removed in 0.21. Use max_iter and tol instead.\n",
      "  DeprecationWarning)\n"
     ]
    },
    {
     "name": "stderr",
     "output_type": "stream",
     "text": [
      "/home/wolfm2/anaconda3/lib/python3.6/site-packages/sklearn/linear_model/stochastic_gradient.py:117: DeprecationWarning: n_iter parameter is deprecated in 0.19 and will be removed in 0.21. Use max_iter and tol instead.\n",
      "  DeprecationWarning)\n"
     ]
    },
    {
     "name": "stderr",
     "output_type": "stream",
     "text": [
      "/home/wolfm2/anaconda3/lib/python3.6/site-packages/sklearn/linear_model/stochastic_gradient.py:117: DeprecationWarning: n_iter parameter is deprecated in 0.19 and will be removed in 0.21. Use max_iter and tol instead.\n",
      "  DeprecationWarning)\n"
     ]
    },
    {
     "name": "stderr",
     "output_type": "stream",
     "text": [
      "/home/wolfm2/anaconda3/lib/python3.6/site-packages/sklearn/linear_model/stochastic_gradient.py:117: DeprecationWarning: n_iter parameter is deprecated in 0.19 and will be removed in 0.21. Use max_iter and tol instead.\n",
      "  DeprecationWarning)\n"
     ]
    },
    {
     "name": "stdout",
     "output_type": "stream",
     "text": [
      "GridSearchCV(cv=None, error_score='raise',\n",
      "       estimator=SGDClassifier(alpha=0.0001, average=False, class_weight=None, epsilon=0.1,\n",
      "       eta0=0.0, fit_intercept=True, l1_ratio=0.15,\n",
      "       learning_rate='optimal', loss='hinge', max_iter=None, n_iter=500,\n",
      "       n_jobs=1, penalty='l2', power_t=0.5, random_state=None,\n",
      "       shuffle=True, tol=None, verbose=0, warm_start=False),\n",
      "       fit_params=None, iid=True, n_jobs=2,\n",
      "       param_grid={'alpha': array([  1.00000e+00,   1.00000e-01,   1.00000e-02,   1.00000e-03,\n",
      "         1.00000e-04,   1.00000e-05])},\n",
      "       pre_dispatch='2*n_jobs', refit=True, return_train_score='warn',\n",
      "       scoring=None, verbose=0)\n",
      "{'mean_fit_time': array([ 90.11212818,  87.29471095,  86.71573893,  87.82987825,\n",
      "        86.68309434,  84.84169888]), 'std_fit_time': array([ 2.06338803,  1.63319217,  1.62492154,  1.82247156,  1.64798076,\n",
      "        3.63772113]), 'mean_score_time': array([ 0.06732901,  0.06915363,  0.06859422,  0.06973108,  0.06888469,\n",
      "        0.06587998]), 'std_score_time': array([ 0.00172859,  0.0011562 ,  0.00173694,  0.00147361,  0.00184374,\n",
      "        0.00487456]), 'param_alpha': masked_array(data = [1.0 0.10000000000000001 0.01 0.001 0.0001 1.0000000000000001e-05],\n",
      "             mask = [False False False False False False],\n",
      "       fill_value = ?)\n",
      ", 'params': [{'alpha': 1.0}, {'alpha': 0.10000000000000001}, {'alpha': 0.01}, {'alpha': 0.001}, {'alpha': 0.0001}, {'alpha': 1.0000000000000001e-05}], 'split0_test_score': array([ 0.94113048,  0.93974587,  0.93974587,  0.93678827,  0.93518702,\n",
      "        0.93496096]), 'split1_test_score': array([ 0.94171447,  0.94023567,  0.9404994 ,  0.93630789,  0.93555436,\n",
      "        0.93408498]), 'split2_test_score': array([ 0.94142192,  0.94027278,  0.94006556,  0.93644858,  0.93526176,\n",
      "        0.93534653]), 'mean_test_score': array([ 0.94142229,  0.94008477,  0.94010361,  0.93651491,  0.93533438,\n",
      "        0.93479749]), 'std_test_score': array([ 0.00023841,  0.00024012,  0.0003088 ,  0.00020164,  0.00015852,\n",
      "        0.00052784]), 'rank_test_score': array([1, 3, 2, 4, 5, 6], dtype=int32), 'split0_train_score': array([ 0.99850706,  0.99946311,  0.99954788,  0.99946782,  0.99945369,\n",
      "        0.9993595 ]), 'split1_train_score': array([ 0.99844584,  0.99946311,  0.99953375,  0.99947253,  0.99946311,\n",
      "        0.99943956]), 'split2_train_score': array([ 0.99835636,  0.99937363,  0.99943485,  0.99934066,  0.99924176,\n",
      "        0.99925589]), 'mean_train_score': array([ 0.99843642,  0.99943328,  0.99950549,  0.999427  ,  0.99938619,\n",
      "        0.99935165]), 'std_train_score': array([  6.18818558e-05,   4.21808698e-05,   5.02833455e-05,\n",
      "         6.10820754e-05,   1.02196160e-04,   7.51881437e-05])}\n",
      "0.941422291994\n",
      "1.0\n"
     ]
    },
    {
     "name": "stderr",
     "output_type": "stream",
     "text": [
      "/home/wolfm2/anaconda3/lib/python3.6/site-packages/sklearn/linear_model/stochastic_gradient.py:117: DeprecationWarning: n_iter parameter is deprecated in 0.19 and will be removed in 0.21. Use max_iter and tol instead.\n",
      "  DeprecationWarning)\n"
     ]
    },
    {
     "name": "stdout",
     "output_type": "stream",
     "text": [
      "{'Pos': 23315, 'Neg': 295185, 'TP': 20489, 'TN': 295140, 'FP': 45, 'FN': 2826, 'Accuracy': 0.99098587127158555, 'Precision': 0.99780851271062632, 'Recall': 0.87879047823289724, 'desc': 'best'}\n"
     ]
    },
    {
     "name": "stderr",
     "output_type": "stream",
     "text": [
      "/home/wolfm2/anaconda3/lib/python3.6/site-packages/sklearn/linear_model/stochastic_gradient.py:117: DeprecationWarning: n_iter parameter is deprecated in 0.19 and will be removed in 0.21. Use max_iter and tol instead.\n",
      "  DeprecationWarning)\n"
     ]
    },
    {
     "name": "stderr",
     "output_type": "stream",
     "text": [
      "/home/wolfm2/anaconda3/lib/python3.6/site-packages/sklearn/linear_model/stochastic_gradient.py:117: DeprecationWarning: n_iter parameter is deprecated in 0.19 and will be removed in 0.21. Use max_iter and tol instead.\n",
      "  DeprecationWarning)\n"
     ]
    },
    {
     "name": "stderr",
     "output_type": "stream",
     "text": [
      "/home/wolfm2/anaconda3/lib/python3.6/site-packages/sklearn/linear_model/stochastic_gradient.py:117: DeprecationWarning: n_iter parameter is deprecated in 0.19 and will be removed in 0.21. Use max_iter and tol instead.\n",
      "  DeprecationWarning)\n"
     ]
    },
    {
     "name": "stderr",
     "output_type": "stream",
     "text": [
      "/home/wolfm2/anaconda3/lib/python3.6/site-packages/sklearn/linear_model/stochastic_gradient.py:117: DeprecationWarning: n_iter parameter is deprecated in 0.19 and will be removed in 0.21. Use max_iter and tol instead.\n",
      "  DeprecationWarning)\n"
     ]
    },
    {
     "name": "stderr",
     "output_type": "stream",
     "text": [
      "/home/wolfm2/anaconda3/lib/python3.6/site-packages/sklearn/linear_model/stochastic_gradient.py:117: DeprecationWarning: n_iter parameter is deprecated in 0.19 and will be removed in 0.21. Use max_iter and tol instead.\n",
      "  DeprecationWarning)\n"
     ]
    },
    {
     "name": "stderr",
     "output_type": "stream",
     "text": [
      "/home/wolfm2/anaconda3/lib/python3.6/site-packages/sklearn/linear_model/stochastic_gradient.py:117: DeprecationWarning: n_iter parameter is deprecated in 0.19 and will be removed in 0.21. Use max_iter and tol instead.\n",
      "  DeprecationWarning)\n"
     ]
    },
    {
     "name": "stderr",
     "output_type": "stream",
     "text": [
      "/home/wolfm2/anaconda3/lib/python3.6/site-packages/sklearn/linear_model/stochastic_gradient.py:117: DeprecationWarning: n_iter parameter is deprecated in 0.19 and will be removed in 0.21. Use max_iter and tol instead.\n",
      "  DeprecationWarning)\n"
     ]
    },
    {
     "name": "stderr",
     "output_type": "stream",
     "text": [
      "/home/wolfm2/anaconda3/lib/python3.6/site-packages/sklearn/linear_model/stochastic_gradient.py:117: DeprecationWarning: n_iter parameter is deprecated in 0.19 and will be removed in 0.21. Use max_iter and tol instead.\n",
      "  DeprecationWarning)\n"
     ]
    },
    {
     "name": "stderr",
     "output_type": "stream",
     "text": [
      "/home/wolfm2/anaconda3/lib/python3.6/site-packages/sklearn/linear_model/stochastic_gradient.py:117: DeprecationWarning: n_iter parameter is deprecated in 0.19 and will be removed in 0.21. Use max_iter and tol instead.\n",
      "  DeprecationWarning)\n"
     ]
    },
    {
     "name": "stderr",
     "output_type": "stream",
     "text": [
      "/home/wolfm2/anaconda3/lib/python3.6/site-packages/sklearn/linear_model/stochastic_gradient.py:117: DeprecationWarning: n_iter parameter is deprecated in 0.19 and will be removed in 0.21. Use max_iter and tol instead.\n",
      "  DeprecationWarning)\n"
     ]
    },
    {
     "name": "stderr",
     "output_type": "stream",
     "text": [
      "/home/wolfm2/anaconda3/lib/python3.6/site-packages/sklearn/linear_model/stochastic_gradient.py:117: DeprecationWarning: n_iter parameter is deprecated in 0.19 and will be removed in 0.21. Use max_iter and tol instead.\n",
      "  DeprecationWarning)\n"
     ]
    },
    {
     "name": "stderr",
     "output_type": "stream",
     "text": [
      "/home/wolfm2/anaconda3/lib/python3.6/site-packages/sklearn/linear_model/stochastic_gradient.py:117: DeprecationWarning: n_iter parameter is deprecated in 0.19 and will be removed in 0.21. Use max_iter and tol instead.\n",
      "  DeprecationWarning)\n"
     ]
    },
    {
     "name": "stderr",
     "output_type": "stream",
     "text": [
      "/home/wolfm2/anaconda3/lib/python3.6/site-packages/sklearn/linear_model/stochastic_gradient.py:117: DeprecationWarning: n_iter parameter is deprecated in 0.19 and will be removed in 0.21. Use max_iter and tol instead.\n",
      "  DeprecationWarning)\n"
     ]
    },
    {
     "name": "stderr",
     "output_type": "stream",
     "text": [
      "/home/wolfm2/anaconda3/lib/python3.6/site-packages/sklearn/linear_model/stochastic_gradient.py:117: DeprecationWarning: n_iter parameter is deprecated in 0.19 and will be removed in 0.21. Use max_iter and tol instead.\n",
      "  DeprecationWarning)\n"
     ]
    },
    {
     "name": "stderr",
     "output_type": "stream",
     "text": [
      "/home/wolfm2/anaconda3/lib/python3.6/site-packages/sklearn/linear_model/stochastic_gradient.py:117: DeprecationWarning: n_iter parameter is deprecated in 0.19 and will be removed in 0.21. Use max_iter and tol instead.\n",
      "  DeprecationWarning)\n"
     ]
    },
    {
     "name": "stderr",
     "output_type": "stream",
     "text": [
      "/home/wolfm2/anaconda3/lib/python3.6/site-packages/sklearn/linear_model/stochastic_gradient.py:117: DeprecationWarning: n_iter parameter is deprecated in 0.19 and will be removed in 0.21. Use max_iter and tol instead.\n",
      "  DeprecationWarning)\n"
     ]
    },
    {
     "name": "stderr",
     "output_type": "stream",
     "text": [
      "/home/wolfm2/anaconda3/lib/python3.6/site-packages/sklearn/linear_model/stochastic_gradient.py:117: DeprecationWarning: n_iter parameter is deprecated in 0.19 and will be removed in 0.21. Use max_iter and tol instead.\n",
      "  DeprecationWarning)\n"
     ]
    },
    {
     "name": "stderr",
     "output_type": "stream",
     "text": [
      "/home/wolfm2/anaconda3/lib/python3.6/site-packages/sklearn/linear_model/stochastic_gradient.py:117: DeprecationWarning: n_iter parameter is deprecated in 0.19 and will be removed in 0.21. Use max_iter and tol instead.\n",
      "  DeprecationWarning)\n"
     ]
    },
    {
     "name": "stderr",
     "output_type": "stream",
     "text": [
      "/home/wolfm2/anaconda3/lib/python3.6/site-packages/sklearn/linear_model/stochastic_gradient.py:117: DeprecationWarning: n_iter parameter is deprecated in 0.19 and will be removed in 0.21. Use max_iter and tol instead.\n",
      "  DeprecationWarning)\n"
     ]
    },
    {
     "name": "stdout",
     "output_type": "stream",
     "text": [
      "GridSearchCV(cv=None, error_score='raise',\n",
      "       estimator=SGDClassifier(alpha=0.0001, average=False, class_weight=None, epsilon=0.1,\n",
      "       eta0=0.0, fit_intercept=True, l1_ratio=0.15,\n",
      "       learning_rate='optimal', loss='log', max_iter=None, n_iter=500,\n",
      "       n_jobs=1, penalty='l2', power_t=0.5, random_state=None,\n",
      "       shuffle=True, tol=None, verbose=0, warm_start=False),\n",
      "       fit_params=None, iid=True, n_jobs=2,\n",
      "       param_grid={'alpha': array([  1.00000e+00,   1.00000e-01,   1.00000e-02,   1.00000e-03,\n",
      "         1.00000e-04,   1.00000e-05])},\n",
      "       pre_dispatch='2*n_jobs', refit=True, return_train_score='warn',\n",
      "       scoring=None, verbose=0)\n",
      "{'mean_fit_time': array([ 151.91142225,  121.42519927,  117.3958602 ,  120.5993038 ,\n",
      "        115.28684775,  120.52040919]), 'std_fit_time': array([ 21.69469384,   2.03536492,   2.1255446 ,   2.12834615,\n",
      "         2.4128374 ,   0.48190537]), 'mean_score_time': array([ 0.07187843,  0.06913495,  0.07122358,  0.06864182,  0.0710628 ,\n",
      "        0.06692449]), 'std_score_time': array([ 0.00375792,  0.00471498,  0.00460517,  0.00461289,  0.00436137,\n",
      "        0.00635068]), 'param_alpha': masked_array(data = [1.0 0.10000000000000001 0.01 0.001 0.0001 1.0000000000000001e-05],\n",
      "             mask = [False False False False False False],\n",
      "       fill_value = ?)\n",
      ", 'params': [{'alpha': 1.0}, {'alpha': 0.10000000000000001}, {'alpha': 0.01}, {'alpha': 0.001}, {'alpha': 0.0001}, {'alpha': 1.0000000000000001e-05}], 'split0_test_score': array([ 0.93397195,  0.94447427,  0.94381493,  0.94308966,  0.93888873,\n",
      "        0.9374947 ]), 'split1_test_score': array([ 0.93460303,  0.94454021,  0.94405983,  0.94347584,  0.93777728,\n",
      "        0.93795624]), 'split2_test_score': array([ 0.93443287,  0.94433246,  0.94389918,  0.94306087,  0.9379274 ,\n",
      "        0.93772017]), 'mean_test_score': array([ 0.93433595,  0.94444898,  0.94392465,  0.94320879,  0.9381978 ,\n",
      "        0.9377237 ]), 'std_test_score': array([  2.66597284e-04,   8.66766112e-05,   1.01588196e-04,\n",
      "         1.89201268e-04,   4.92391221e-04,   1.88438532e-04]), 'rank_test_score': array([6, 1, 2, 3, 4, 5], dtype=int32), 'split0_train_score': array([ 0.94140336,  0.99934537,  0.99953846,  0.99945369,  0.99949607,\n",
      "        0.9995102 ]), 'split1_train_score': array([ 0.94116788,  0.99932182,  0.99952433,  0.99942072,  0.99943956,\n",
      "        0.99950549]), 'split2_train_score': array([ 0.94147428,  0.99923705,  0.99943014,  0.99924647,  0.9993124 ,\n",
      "        0.99927002]), 'mean_train_score': array([ 0.94134851,  0.99930141,  0.99949765,  0.99937363,  0.99941601,\n",
      "        0.99942857]), 'std_train_score': array([  1.30962285e-04,   4.65150010e-05,   4.80785458e-05,\n",
      "         9.09148602e-05,   7.68095268e-05,   1.12130872e-04])}\n",
      "0.944448979592\n",
      "0.1\n"
     ]
    },
    {
     "name": "stderr",
     "output_type": "stream",
     "text": [
      "/home/wolfm2/anaconda3/lib/python3.6/site-packages/sklearn/linear_model/stochastic_gradient.py:117: DeprecationWarning: n_iter parameter is deprecated in 0.19 and will be removed in 0.21. Use max_iter and tol instead.\n",
      "  DeprecationWarning)\n"
     ]
    },
    {
     "name": "stdout",
     "output_type": "stream",
     "text": [
      "{'Pos': 23315, 'Neg': 295185, 'TP': 22938, 'TN': 295158, 'FP': 27, 'FN': 377, 'Accuracy': 0.9987315541601256, 'Precision': 0.99882429784454607, 'Recall': 0.98383015226249193, 'desc': 'best'}\n"
     ]
    },
    {
     "name": "stderr",
     "output_type": "stream",
     "text": [
      "/home/wolfm2/anaconda3/lib/python3.6/site-packages/sklearn/linear_model/stochastic_gradient.py:117: DeprecationWarning: n_iter parameter is deprecated in 0.19 and will be removed in 0.21. Use max_iter and tol instead.\n",
      "  DeprecationWarning)\n"
     ]
    },
    {
     "name": "stderr",
     "output_type": "stream",
     "text": [
      "/home/wolfm2/anaconda3/lib/python3.6/site-packages/sklearn/linear_model/stochastic_gradient.py:117: DeprecationWarning: n_iter parameter is deprecated in 0.19 and will be removed in 0.21. Use max_iter and tol instead.\n",
      "  DeprecationWarning)\n"
     ]
    },
    {
     "name": "stderr",
     "output_type": "stream",
     "text": [
      "/home/wolfm2/anaconda3/lib/python3.6/site-packages/sklearn/linear_model/stochastic_gradient.py:117: DeprecationWarning: n_iter parameter is deprecated in 0.19 and will be removed in 0.21. Use max_iter and tol instead.\n",
      "  DeprecationWarning)\n"
     ]
    },
    {
     "name": "stderr",
     "output_type": "stream",
     "text": [
      "/home/wolfm2/anaconda3/lib/python3.6/site-packages/sklearn/linear_model/stochastic_gradient.py:117: DeprecationWarning: n_iter parameter is deprecated in 0.19 and will be removed in 0.21. Use max_iter and tol instead.\n",
      "  DeprecationWarning)\n"
     ]
    },
    {
     "name": "stderr",
     "output_type": "stream",
     "text": [
      "/home/wolfm2/anaconda3/lib/python3.6/site-packages/sklearn/linear_model/stochastic_gradient.py:117: DeprecationWarning: n_iter parameter is deprecated in 0.19 and will be removed in 0.21. Use max_iter and tol instead.\n",
      "  DeprecationWarning)\n"
     ]
    },
    {
     "name": "stderr",
     "output_type": "stream",
     "text": [
      "/home/wolfm2/anaconda3/lib/python3.6/site-packages/sklearn/linear_model/stochastic_gradient.py:117: DeprecationWarning: n_iter parameter is deprecated in 0.19 and will be removed in 0.21. Use max_iter and tol instead.\n",
      "  DeprecationWarning)\n"
     ]
    },
    {
     "name": "stderr",
     "output_type": "stream",
     "text": [
      "/home/wolfm2/anaconda3/lib/python3.6/site-packages/sklearn/linear_model/stochastic_gradient.py:117: DeprecationWarning: n_iter parameter is deprecated in 0.19 and will be removed in 0.21. Use max_iter and tol instead.\n",
      "  DeprecationWarning)\n"
     ]
    },
    {
     "name": "stderr",
     "output_type": "stream",
     "text": [
      "/home/wolfm2/anaconda3/lib/python3.6/site-packages/sklearn/linear_model/stochastic_gradient.py:117: DeprecationWarning: n_iter parameter is deprecated in 0.19 and will be removed in 0.21. Use max_iter and tol instead.\n",
      "  DeprecationWarning)\n"
     ]
    },
    {
     "name": "stderr",
     "output_type": "stream",
     "text": [
      "/home/wolfm2/anaconda3/lib/python3.6/site-packages/sklearn/linear_model/stochastic_gradient.py:117: DeprecationWarning: n_iter parameter is deprecated in 0.19 and will be removed in 0.21. Use max_iter and tol instead.\n",
      "  DeprecationWarning)\n"
     ]
    },
    {
     "name": "stderr",
     "output_type": "stream",
     "text": [
      "/home/wolfm2/anaconda3/lib/python3.6/site-packages/sklearn/linear_model/stochastic_gradient.py:117: DeprecationWarning: n_iter parameter is deprecated in 0.19 and will be removed in 0.21. Use max_iter and tol instead.\n",
      "  DeprecationWarning)\n"
     ]
    },
    {
     "name": "stderr",
     "output_type": "stream",
     "text": [
      "/home/wolfm2/anaconda3/lib/python3.6/site-packages/sklearn/linear_model/stochastic_gradient.py:117: DeprecationWarning: n_iter parameter is deprecated in 0.19 and will be removed in 0.21. Use max_iter and tol instead.\n",
      "  DeprecationWarning)\n"
     ]
    },
    {
     "name": "stderr",
     "output_type": "stream",
     "text": [
      "/home/wolfm2/anaconda3/lib/python3.6/site-packages/sklearn/linear_model/stochastic_gradient.py:117: DeprecationWarning: n_iter parameter is deprecated in 0.19 and will be removed in 0.21. Use max_iter and tol instead.\n",
      "  DeprecationWarning)\n"
     ]
    },
    {
     "name": "stderr",
     "output_type": "stream",
     "text": [
      "/home/wolfm2/anaconda3/lib/python3.6/site-packages/sklearn/linear_model/stochastic_gradient.py:117: DeprecationWarning: n_iter parameter is deprecated in 0.19 and will be removed in 0.21. Use max_iter and tol instead.\n",
      "  DeprecationWarning)\n"
     ]
    },
    {
     "name": "stderr",
     "output_type": "stream",
     "text": [
      "/home/wolfm2/anaconda3/lib/python3.6/site-packages/sklearn/linear_model/stochastic_gradient.py:117: DeprecationWarning: n_iter parameter is deprecated in 0.19 and will be removed in 0.21. Use max_iter and tol instead.\n",
      "  DeprecationWarning)\n"
     ]
    },
    {
     "name": "stderr",
     "output_type": "stream",
     "text": [
      "/home/wolfm2/anaconda3/lib/python3.6/site-packages/sklearn/linear_model/stochastic_gradient.py:117: DeprecationWarning: n_iter parameter is deprecated in 0.19 and will be removed in 0.21. Use max_iter and tol instead.\n",
      "  DeprecationWarning)\n"
     ]
    },
    {
     "name": "stderr",
     "output_type": "stream",
     "text": [
      "/home/wolfm2/anaconda3/lib/python3.6/site-packages/sklearn/linear_model/stochastic_gradient.py:117: DeprecationWarning: n_iter parameter is deprecated in 0.19 and will be removed in 0.21. Use max_iter and tol instead.\n",
      "  DeprecationWarning)\n"
     ]
    },
    {
     "name": "stderr",
     "output_type": "stream",
     "text": [
      "/home/wolfm2/anaconda3/lib/python3.6/site-packages/sklearn/linear_model/stochastic_gradient.py:117: DeprecationWarning: n_iter parameter is deprecated in 0.19 and will be removed in 0.21. Use max_iter and tol instead.\n",
      "  DeprecationWarning)\n"
     ]
    },
    {
     "name": "stderr",
     "output_type": "stream",
     "text": [
      "/home/wolfm2/anaconda3/lib/python3.6/site-packages/sklearn/linear_model/stochastic_gradient.py:117: DeprecationWarning: n_iter parameter is deprecated in 0.19 and will be removed in 0.21. Use max_iter and tol instead.\n",
      "  DeprecationWarning)\n"
     ]
    },
    {
     "name": "stderr",
     "output_type": "stream",
     "text": [
      "/home/wolfm2/anaconda3/lib/python3.6/site-packages/sklearn/linear_model/stochastic_gradient.py:117: DeprecationWarning: n_iter parameter is deprecated in 0.19 and will be removed in 0.21. Use max_iter and tol instead.\n",
      "  DeprecationWarning)\n"
     ]
    },
    {
     "name": "stdout",
     "output_type": "stream",
     "text": [
      "GridSearchCV(cv=None, error_score='raise',\n",
      "       estimator=SGDClassifier(alpha=0.0001, average=False, class_weight=None, epsilon=0.1,\n",
      "       eta0=0.0, fit_intercept=True, l1_ratio=0.15,\n",
      "       learning_rate='optimal', loss='perceptron', max_iter=None,\n",
      "       n_iter=500, n_jobs=1, penalty='l2', power_t=0.5, random_state=None,\n",
      "       shuffle=True, tol=None, verbose=0, warm_start=False),\n",
      "       fit_params=None, iid=True, n_jobs=2,\n",
      "       param_grid={'alpha': array([  1.00000e+00,   1.00000e-01,   1.00000e-02,   1.00000e-03,\n",
      "         1.00000e-04,   1.00000e-05])},\n",
      "       pre_dispatch='2*n_jobs', refit=True, return_train_score='warn',\n",
      "       scoring=None, verbose=0)\n",
      "{'mean_fit_time': array([ 91.22125697,  90.81097086,  91.27856565,  90.87728596,\n",
      "        91.34496967,  90.31283164]), 'std_fit_time': array([ 0.42265496,  1.05941073,  0.51594138,  1.12720507,  0.45408743,\n",
      "        1.57519375]), 'mean_score_time': array([ 0.07822712,  0.07261618,  0.07202458,  0.07001662,  0.0719494 ,\n",
      "        0.06584191]), 'std_score_time': array([ 0.00721171,  0.00345774,  0.00101512,  0.00075838,  0.00104966,\n",
      "        0.00613345]), 'param_alpha': masked_array(data = [1.0 0.10000000000000001 0.01 0.001 0.0001 1.0000000000000001e-05],\n",
      "             mask = [False False False False False False],\n",
      "       fill_value = ?)\n",
      ", 'params': [{'alpha': 1.0}, {'alpha': 0.10000000000000001}, {'alpha': 0.01}, {'alpha': 0.001}, {'alpha': 0.0001}, {'alpha': 1.0000000000000001e-05}], 'split0_test_score': array([ 0.93841778,  0.93820114,  0.93831417,  0.93736283,  0.93619486,\n",
      "        0.93528121]), 'split1_test_score': array([ 0.93858732,  0.93972703,  0.9377396 ,  0.93663756,  0.93614777,\n",
      "        0.93571449]), 'split2_test_score': array([ 0.93827591,  0.93824765,  0.9378803 ,  0.93663696,  0.93532769,\n",
      "        0.93560085]), 'mean_test_score': array([ 0.938427  ,  0.93872527,  0.93797802,  0.93687912,  0.93589011,\n",
      "        0.93553218]), 'std_test_score': array([ 0.0001273 ,  0.00070861,  0.00024453,  0.00034204,  0.00039815,\n",
      "        0.00018343]), 'rank_test_score': array([2, 1, 3, 4, 5, 6], dtype=int32), 'split0_train_score': array([ 0.99940659,  0.99950549,  0.99942543,  0.99947253,  0.9995102 ,\n",
      "        0.99951491]), 'split1_train_score': array([ 0.99938775,  0.99938304,  0.99913344,  0.99937363,  0.99950549,\n",
      "        0.99943014]), 'split2_train_score': array([ 0.99930769,  0.99905809,  0.99917583,  0.99935479,  0.99931711,\n",
      "        0.99936892]), 'mean_train_score': array([ 0.99936735,  0.99931554,  0.9992449 ,  0.99940031,  0.99944427,\n",
      "        0.99943799]), 'std_train_score': array([  4.28761071e-05,   1.88786437e-04,   1.28823610e-04,\n",
      "         5.16377570e-05,   8.99338568e-05,   5.98597858e-05])}\n",
      "0.938725274725\n",
      "0.1\n"
     ]
    },
    {
     "name": "stderr",
     "output_type": "stream",
     "text": [
      "/home/wolfm2/anaconda3/lib/python3.6/site-packages/sklearn/linear_model/stochastic_gradient.py:117: DeprecationWarning: n_iter parameter is deprecated in 0.19 and will be removed in 0.21. Use max_iter and tol instead.\n",
      "  DeprecationWarning)\n"
     ]
    },
    {
     "name": "stdout",
     "output_type": "stream",
     "text": [
      "{'Pos': 23315, 'Neg': 295185, 'TP': 23193, 'TN': 295034, 'FP': 151, 'FN': 122, 'Accuracy': 0.99914285714285711, 'Precision': 0.99353152844413983, 'Recall': 0.99476731717778255, 'desc': 'best'}\n"
     ]
    },
    {
     "name": "stdout",
     "output_type": "stream",
     "text": [
      "GridSearchCV(cv=None, error_score='raise',\n",
      "       estimator=MultinomialNB(alpha=1.0, class_prior=None, fit_prior=True),\n",
      "       fit_params=None, iid=True, n_jobs=2,\n",
      "       param_grid={'alpha': array([  1.00000e+00,   1.00000e-01,   1.00000e-02,   1.00000e-03,\n",
      "         1.00000e-04,   1.00000e-05])},\n",
      "       pre_dispatch='2*n_jobs', refit=True, return_train_score='warn',\n",
      "       scoring=None, verbose=0)\n",
      "{'mean_fit_time': array([ 2.03855872,  2.04959822,  2.0734512 ,  2.0454665 ,  2.07817443,\n",
      "        1.99615129]), 'std_fit_time': array([ 0.07227769,  0.03584937,  0.04219652,  0.04038441,  0.03800981,\n",
      "        0.09743086]), 'mean_score_time': array([ 0.21414701,  0.21558213,  0.20769032,  0.21520201,  0.2074217 ,\n",
      "        0.1850992 ]), 'std_score_time': array([ 0.00702052,  0.01071809,  0.01109084,  0.01054033,  0.01155854,\n",
      "        0.04721994]), 'param_alpha': masked_array(data = [1.0 0.10000000000000001 0.01 0.001 0.0001 1.0000000000000001e-05],\n",
      "             mask = [False False False False False False],\n",
      "       fill_value = ?)\n",
      ", 'params': [{'alpha': 1.0}, {'alpha': 0.10000000000000001}, {'alpha': 0.01}, {'alpha': 0.001}, {'alpha': 0.0001}, {'alpha': 1.0000000000000001e-05}], 'split0_test_score': array([ 0.93014779,  0.93113679,  0.93134401,  0.93145704,  0.93151356,\n",
      "        0.93151356]), 'split1_test_score': array([ 0.92945077,  0.93021372,  0.93057165,  0.93067526,  0.93072235,\n",
      "        0.93076003]), 'split2_test_score': array([ 0.92918637,  0.93001526,  0.93026016,  0.93039203,  0.93046738,\n",
      "        0.9304768 ]), 'mean_test_score': array([ 0.92959498,  0.93045526,  0.93072527,  0.93084144,  0.9309011 ,\n",
      "        0.9309168 ]), 'std_test_score': array([ 0.00040553,  0.00048868,  0.00045562,  0.00045039,  0.00044541,\n",
      "        0.00043753]), 'rank_test_score': array([6, 5, 4, 3, 2, 1], dtype=int32), 'split0_train_score': array([ 0.98998272,  0.99034064,  0.9904678 ,  0.99053374,  0.99055729,\n",
      "        0.9905667 ]), 'split1_train_score': array([ 0.99040658,  0.99067032,  0.99077393,  0.99083044,  0.99088225,\n",
      "        0.99090108]), 'split2_train_score': array([ 0.9895589 ,  0.98997334,  0.99006283,  0.99011463,  0.99016644,\n",
      "        0.99016644]), 'mean_train_score': array([ 0.98998273,  0.9903281 ,  0.99043485,  0.99049294,  0.99053532,\n",
      "        0.99054474]), 'std_train_score': array([ 0.00034606,  0.00028468,  0.00029124,  0.00029365,  0.00029264,\n",
      "        0.00030032])}\n",
      "0.930916797488\n",
      "1e-05\n"
     ]
    },
    {
     "name": "stdout",
     "output_type": "stream",
     "text": [
      "{'Pos': 23315, 'Neg': 295185, 'TP': 21981, 'TN': 290270, 'FP': 4915, 'FN': 1334, 'Accuracy': 0.98037990580847723, 'Precision': 0.8172590719809637, 'Recall': 0.94278361569804847, 'desc': 'best'}\n"
     ]
    },
    {
     "name": "stdout",
     "output_type": "stream",
     "text": [
      "GridSearchCV(cv=None, error_score='raise',\n",
      "       estimator=RidgeClassifier(alpha=1.0, class_weight=None, copy_X=True, fit_intercept=True,\n",
      "        max_iter=None, normalize=False, random_state=None, solver='auto',\n",
      "        tol=0.001),\n",
      "       fit_params=None, iid=True, n_jobs=2,\n",
      "       param_grid={'alpha': array([  1.00000e+00,   1.00000e-01,   1.00000e-02,   1.00000e-03,\n",
      "         1.00000e-04,   1.00000e-05])},\n",
      "       pre_dispatch='2*n_jobs', refit=True, return_train_score='warn',\n",
      "       scoring=None, verbose=0)\n",
      "{'mean_fit_time': array([ 781.83693552,  775.08413092,  770.13941606,  774.68422977,\n",
      "        769.11883434,  727.12416792]), 'std_fit_time': array([ 100.02767354,   76.82396622,   76.39116156,   81.65273271,\n",
      "         79.3568291 ,   93.42885675]), 'mean_score_time': array([ 0.06603098,  0.06875944,  0.06712461,  0.06863666,  0.06692831,\n",
      "        0.06522465]), 'std_score_time': array([ 0.00244875,  0.0012374 ,  0.00140274,  0.00121538,  0.00134918,\n",
      "        0.00428087]), 'param_alpha': masked_array(data = [1.0 0.10000000000000001 0.01 0.001 0.0001 1.0000000000000001e-05],\n",
      "             mask = [False False False False False False],\n",
      "       fill_value = ?)\n",
      ", 'params': [{'alpha': 1.0}, {'alpha': 0.10000000000000001}, {'alpha': 0.01}, {'alpha': 0.001}, {'alpha': 0.0001}, {'alpha': 1.0000000000000001e-05}], 'split0_test_score': array([ 0.93337855,  0.93336913,  0.93338796,  0.93338796,  0.93337855,\n",
      "        0.93335971]), 'split1_test_score': array([ 0.93377415,  0.93374589,  0.93376473,  0.93376473,  0.93376473,\n",
      "        0.93377415]), 'split2_test_score': array([ 0.93354746,  0.93353804,  0.93351921,  0.93353804,  0.93353804,\n",
      "        0.93351921]), 'mean_test_score': array([ 0.93356672,  0.93355102,  0.9335573 ,  0.93356358,  0.93356044,\n",
      "        0.93355102]), 'std_test_score': array([ 0.00016208,  0.00015409,  0.00015615,  0.00015487,  0.00015845,\n",
      "        0.00017068]), 'rank_test_score': array([1, 5, 4, 2, 3, 5], dtype=int32), 'split0_train_score': array([ 0.99954317,  0.99954317,  0.99954317,  0.99954317,  0.99954317,\n",
      "        0.99954317]), 'split1_train_score': array([ 0.99954317,  0.99954317,  0.99954317,  0.99953846,  0.99954317,\n",
      "        0.99954317]), 'split2_train_score': array([ 0.99944898,  0.99944898,  0.99944898,  0.99944898,  0.99944898,\n",
      "        0.99944898]), 'mean_train_score': array([ 0.99951177,  0.99951177,  0.99951177,  0.9995102 ,  0.99951177,\n",
      "        0.99951177]), 'std_train_score': array([  4.44011560e-05,   4.44011560e-05,   4.44011560e-05,\n",
      "         4.33337713e-05,   4.44011560e-05,   4.44011560e-05])}\n",
      "0.933566718995\n",
      "1.0\n"
     ]
    },
    {
     "name": "stdout",
     "output_type": "stream",
     "text": [
      "{'Pos': 23315, 'Neg': 295185, 'TP': 23195, 'TN': 295117, 'FP': 68, 'FN': 120, 'Accuracy': 0.99940973312401882, 'Precision': 0.99707690323689979, 'Recall': 0.99485309886339268, 'desc': 'best'}\n"
     ]
    }
   ],
   "source": [
    "import json\n",
    "import datetime\n",
    "import numpy as np\n",
    "from sklearn.model_selection import GridSearchCV\n",
    "from sklearn import linear_model\n",
    "from sklearn.naive_bayes import MultinomialNB\n",
    "\n",
    "from sklearn.neural_network import MLPClassifier # mw\n",
    "\n",
    "# prepare a range of alpha values to test\n",
    "# alphas = np.array([1,0.1,0.01,0.001,0.0001,0])\n",
    "alphas = np.array([1, 0.1, 0.01, 0.001, 0.0001, 0.00001])\n",
    "Cs = np.array([0.001, 0.01, 0.1, 1, 10, 100, 1000])\n",
    "# create and fit a ridge regression model, testing each alpha\n",
    "# model = linear_model.SGDClassifier(loss='perceptron', max_iter=50) # max_iter 1000\n",
    "\n",
    "if isTraining:\n",
    "    mlp = MLPClassifier(random_state=0)\n",
    "    svm = linear_model.SGDClassifier(n_iter=500)\n",
    "    lgs = linear_model.SGDClassifier(loss='log', n_iter=500)\n",
    "    nbs = MultinomialNB()\n",
    "    rdg = linear_model.RidgeClassifier()\n",
    "    prc = linear_model.SGDClassifier(loss='perceptron', n_iter=500)\n",
    "    mList = [[svm,\"svm\"], [lgs,\"lgs\"], [prc,\"prc\"], [nbs,\"nbs\"], [rdg,\"rdg\"]]\n",
    "else:\n",
    "    mList = []\n",
    "\n",
    "for model in mList: \n",
    "# for model in []: \n",
    "# for model in [rdg]:    \n",
    "  fh = open(\"GridSearch.txt\", \"a\")\n",
    "  grid = GridSearchCV(estimator=model[0], param_grid=dict(alpha=alphas), n_jobs=2) #\n",
    "  grid.fit(X, y)\n",
    "  print(grid)\n",
    "  # summarize the results of the grid search\n",
    "  print(grid.cv_results_)\n",
    "  print(grid.best_score_)\n",
    "  print(grid.best_estimator_.alpha)\n",
    "\n",
    "  fh.write('\\n########\\n')\n",
    "  fh.write(str(datetime.datetime.now()))\n",
    "  fh.write('\\n########\\n')\n",
    "  fh.write(str(model[0]) + '\\n')  \n",
    "  fh.write(str(grid.cv_results_).replace(\", '\", \",\\n'\") + '\\n')\n",
    "  fh.write(str(grid.best_score_) + '\\n')  \n",
    "  fh.write(str(grid.best_estimator_.alpha) + '\\n')\n",
    "  fh.close()\n",
    "\n",
    "  # MODEL: BEST\n",
    "  best = grid.best_estimator_\n",
    "\n",
    "  best.fit(X, y)\n",
    "  joblib.dump(best, 'best.{}.pkl'.format(model[1])) # pickle\n",
    "\n",
    "  best_performance = BinaryClassificationPerformance(best.predict(X), y, 'best')\n",
    "  best_performance.compute_measures()\n",
    "  print(best_performance.performance_measures)\n",
    "  "
   ]
  },
  {
   "cell_type": "code",
   "execution_count": 23,
   "metadata": {
    "collapsed": true,
    "papermill": {
     "duration": 0.023293,
     "end_time": "2018-04-12T18:32:00.007529",
     "exception": false,
     "start_time": "2018-04-12T18:31:59.984236",
     "status": "completed"
    },
    "tags": []
   },
   "outputs": [
    {
     "data": {
      "text/plain": [
       "'\\npg = {\\'learning_rate\\': [\"constant\", \"invscaling\", \"adaptive\"],\\n\\'hidden_layer_sizes\\': [(100,1), (100,2), (100,3)],\\n#\\'alpha\\': [10.0 ** -np.arange(1, 7)],\\n\\'alpha\\': [1, 0.1, 0.01, 0.001, 0.0001, 0.00001],\\n\\'activation\\': [\"logistic\", \"relu\", \"Tanh\"],\\n\\'tol\\': [1e-2, 1e-4, 1e-6],\\n\\'epsilon\\': [1e-3, 1e-7, 1e-8, 1e-9, 1e-8]\\n}\\n\\nfh = open(\"GridSearch.txt\", \"a\")\\ngrid = GridSearchCV(estimator=mlp, param_grid=pg, n_jobs=2) #\\ngrid.fit(X, y)\\nprint(grid)\\n# summarize the results of the grid search\\nprint(grid.cv_results_)\\nprint(grid.best_score_)\\nprint(grid.best_estimator_.alpha)\\n\\nfh.write(\\'\\n########\\n\\')\\nfh.write(str(datetime.datetime.now()))\\nfh.write(\\'\\n########\\n\\')\\nfh.write(str(model) + \\'\\n\\')  \\nfh.write(str(grid.cv_results_).replace(\", \\'\", \",\\n\\'\") + \\'\\n\\')\\nfh.write(str(grid.best_score_) + \\'\\n\\')  \\nfh.write(str(grid.best_estimator_.alpha) + \\'\\n\\')\\nfh.close()\\n'"
      ]
     },
     "execution_count": 23,
     "metadata": {},
     "output_type": "execute_result"
    }
   ],
   "source": [
    "'''\n",
    "pg = {'learning_rate': [\"constant\", \"invscaling\", \"adaptive\"],\n",
    "'hidden_layer_sizes': [(100,1), (100,2), (100,3)],\n",
    "#'alpha': [10.0 ** -np.arange(1, 7)],\n",
    "'alpha': [1, 0.1, 0.01, 0.001, 0.0001, 0.00001],\n",
    "'activation': [\"logistic\", \"relu\", \"Tanh\"],\n",
    "'tol': [1e-2, 1e-4, 1e-6],\n",
    "'epsilon': [1e-3, 1e-7, 1e-8, 1e-9, 1e-8]\n",
    "}\n",
    "\n",
    "fh = open(\"GridSearch.txt\", \"a\")\n",
    "grid = GridSearchCV(estimator=mlp, param_grid=pg, n_jobs=2) #\n",
    "grid.fit(X, y)\n",
    "print(grid)\n",
    "# summarize the results of the grid search\n",
    "print(grid.cv_results_)\n",
    "print(grid.best_score_)\n",
    "print(grid.best_estimator_.alpha)\n",
    "\n",
    "fh.write('\\n########\\n')\n",
    "fh.write(str(datetime.datetime.now()))\n",
    "fh.write('\\n########\\n')\n",
    "fh.write(str(model) + '\\n')  \n",
    "fh.write(str(grid.cv_results_).replace(\", '\", \",\\n'\") + '\\n')\n",
    "fh.write(str(grid.best_score_) + '\\n')  \n",
    "fh.write(str(grid.best_estimator_.alpha) + '\\n')\n",
    "fh.close()\n",
    "'''"
   ]
  },
  {
   "cell_type": "code",
   "execution_count": 24,
   "metadata": {
    "collapsed": true,
    "papermill": {
     "duration": 0.023173,
     "end_time": "2018-04-12T18:32:00.030738",
     "exception": false,
     "start_time": "2018-04-12T18:32:00.007565",
     "status": "completed"
    },
    "tags": []
   },
   "outputs": [
    {
     "data": {
      "text/plain": [
       "\"\\n# MODEL: BEST\\nbest = grid.best_estimator_\\n\\nbest.fit(X, y)\\njoblib.dump(best, 'best.pkl') # pickle\\n\\nbest_performance = BinaryClassificationPerformance(best.predict(X), y, 'best')\\nbest_performance.compute_measures()\\nprint(best_performance.performance_measures)\\n\""
      ]
     },
     "execution_count": 24,
     "metadata": {},
     "output_type": "execute_result"
    }
   ],
   "source": [
    "'''\n",
    "# MODEL: BEST\n",
    "best = grid.best_estimator_\n",
    "\n",
    "best.fit(X, y)\n",
    "joblib.dump(best, 'best.pkl') # pickle\n",
    "\n",
    "best_performance = BinaryClassificationPerformance(best.predict(X), y, 'best')\n",
    "best_performance.compute_measures()\n",
    "print(best_performance.performance_measures)\n",
    "'''"
   ]
  },
  {
   "cell_type": "markdown",
   "metadata": {
    "papermill": {
     "duration": 7e-06,
     "end_time": "2018-04-12T18:32:00.030778",
     "exception": false,
     "start_time": "2018-04-12T18:32:00.030771",
     "status": "completed"
    },
    "tags": []
   },
   "source": [
    "### ROC plot to compare performance of various models and fits"
   ]
  },
  {
   "cell_type": "code",
   "execution_count": null,
   "metadata": {
    "papermill": {
     "duration": null,
     "end_time": null,
     "exception": null,
     "start_time": null,
     "status": "running"
    },
    "tags": []
   },
   "outputs": [],
   "source": [
    "if isTraining:\n",
    "    fList = []\n",
    "else:\n",
    "    fits = [svm_performance, lgs_performance, nbs_performance, rdg_performance, prc_performance]\n",
    "    fList = fits\n",
    "\n",
    "for fit in fList:\n",
    "    plt.plot(fit.performance_measures['FP'] / fit.performance_measures['Neg'], \n",
    "             fit.performance_measures['TP'] / fit.performance_measures['Pos'], 'ro')\n",
    "    plt.text(fit.performance_measures['FP'] / fit.performance_measures['Neg'], \n",
    "             fit.performance_measures['TP'] / fit.performance_measures['Pos'], fit.desc)\n",
    "plt.axis([0, 1, 0, 1])\n",
    "if isTraining:\n",
    "    plt.title('ROC plot: training set')\n",
    "else:\n",
    "    plt.title('ROC plot: testing set')\n",
    "plt.xlabel('False positive rate')\n",
    "plt.ylabel('True positive rate')\n",
    "plt.show()"
   ]
  }
 ],
 "metadata": {
  "kernelspec": {
   "display_name": "Python 3",
   "language": "python",
   "name": "python3"
  },
  "language_info": {
   "codemirror_mode": {
    "name": "ipython",
    "version": 3
   },
   "file_extension": ".py",
   "mimetype": "text/x-python",
   "name": "python",
   "nbconvert_exporter": "python",
   "pygments_lexer": "ipython3",
   "version": "3.6.3"
  },
  "papermill": {
   "environment_variables": {},
   "output_path": "output.ipynb",
   "parameters": null,
   "version": "0.12.4"
  }
 },
 "nbformat": 4,
 "nbformat_minor": 1
}